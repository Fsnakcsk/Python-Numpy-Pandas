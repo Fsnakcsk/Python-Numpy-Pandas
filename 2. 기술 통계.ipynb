{
 "cells": [
  {
   "cell_type": "code",
   "execution_count": 1,
   "id": "1217b39c",
   "metadata": {},
   "outputs": [],
   "source": [
    "import numpy as np"
   ]
  },
  {
   "cell_type": "markdown",
   "id": "24e246d7",
   "metadata": {},
   "source": [
    "#### 데이터 개수 : (len, count)"
   ]
  },
  {
   "cell_type": "code",
   "execution_count": 3,
   "id": "edaeb800",
   "metadata": {},
   "outputs": [],
   "source": [
    "x = np.array([18, 5, 10, 23, 19, -8, 10, 0, 0, 5, 2, 15, 8, 2, 5, 4, 15, -1, 4, -7, -24, 7, 9, -6, 23, -13])"
   ]
  },
  {
   "cell_type": "code",
   "execution_count": 4,
   "id": "043750e2",
   "metadata": {},
   "outputs": [
    {
     "data": {
      "text/plain": [
       "26"
      ]
     },
     "execution_count": 4,
     "metadata": {},
     "output_type": "execute_result"
    }
   ],
   "source": [
    "len(x)"
   ]
  },
  {
   "cell_type": "markdown",
   "id": "a894cbe7",
   "metadata": {},
   "source": [
    "#### 평균(mean, average)"
   ]
  },
  {
   "cell_type": "code",
   "execution_count": 5,
   "id": "7e5aa00e",
   "metadata": {},
   "outputs": [
    {
     "data": {
      "text/plain": [
       "4.8076923076923075"
      ]
     },
     "execution_count": 5,
     "metadata": {},
     "output_type": "execute_result"
    }
   ],
   "source": [
    "np.mean(x)"
   ]
  },
  {
   "cell_type": "markdown",
   "id": "fd4363ec",
   "metadata": {},
   "source": [
    "#### 분산(var, variance)\n",
    "- 표본 분산\n",
    "- 불편 분산"
   ]
  },
  {
   "cell_type": "code",
   "execution_count": 7,
   "id": "226ccd9c",
   "metadata": {},
   "outputs": [
    {
     "data": {
      "text/plain": [
       "115.23224852071006"
      ]
     },
     "execution_count": 7,
     "metadata": {},
     "output_type": "execute_result"
    }
   ],
   "source": [
    "# 표본분산      (편차)**2 / n\n",
    "np.var(x)"
   ]
  },
  {
   "cell_type": "code",
   "execution_count": 8,
   "id": "1b45fb05",
   "metadata": {},
   "outputs": [
    {
     "data": {
      "text/plain": [
       "119.84153846153846"
      ]
     },
     "execution_count": 8,
     "metadata": {},
     "output_type": "execute_result"
    }
   ],
   "source": [
    "# 불편분산 , 비편향 분산\n",
    "np.var(x, ddof=1)   # (편차)**2 / (n -1)"
   ]
  },
  {
   "cell_type": "markdown",
   "id": "5d5615f0",
   "metadata": {},
   "source": [
    "#### 표준 편차(std, standard deviation)"
   ]
  },
  {
   "cell_type": "code",
   "execution_count": 9,
   "id": "bdee814f",
   "metadata": {},
   "outputs": [
    {
     "data": {
      "text/plain": [
       "10.734628476137871"
      ]
     },
     "execution_count": 9,
     "metadata": {},
     "output_type": "execute_result"
    }
   ],
   "source": [
    "np.std(x)"
   ]
  },
  {
   "cell_type": "markdown",
   "id": "6205657e",
   "metadata": {},
   "source": [
    "#### 최댓값(max, maximum)"
   ]
  },
  {
   "cell_type": "code",
   "execution_count": 10,
   "id": "d18dd6b0",
   "metadata": {},
   "outputs": [
    {
     "data": {
      "text/plain": [
       "23"
      ]
     },
     "execution_count": 10,
     "metadata": {},
     "output_type": "execute_result"
    }
   ],
   "source": [
    "np.max(x)"
   ]
  },
  {
   "cell_type": "markdown",
   "id": "a3e4bc40",
   "metadata": {},
   "source": [
    "#### 최솟값(min, minmum)"
   ]
  },
  {
   "cell_type": "code",
   "execution_count": 11,
   "id": "6caf8f56",
   "metadata": {},
   "outputs": [
    {
     "data": {
      "text/plain": [
       "-24"
      ]
     },
     "execution_count": 11,
     "metadata": {},
     "output_type": "execute_result"
    }
   ],
   "source": [
    "np.min(x)"
   ]
  },
  {
   "cell_type": "markdown",
   "id": "716446e6",
   "metadata": {},
   "source": [
    "#### 중앙값(meadian)"
   ]
  },
  {
   "cell_type": "code",
   "execution_count": 12,
   "id": "365725d1",
   "metadata": {},
   "outputs": [
    {
     "data": {
      "text/plain": [
       "5.0"
      ]
     },
     "execution_count": 12,
     "metadata": {},
     "output_type": "execute_result"
    }
   ],
   "source": [
    "np.median(x)"
   ]
  },
  {
   "cell_type": "markdown",
   "id": "835ec793",
   "metadata": {},
   "source": [
    "#### 사분위수(quantile)\n",
    "- 백분위수 xxx.percentile()"
   ]
  },
  {
   "cell_type": "code",
   "execution_count": 13,
   "id": "add23663",
   "metadata": {},
   "outputs": [
    {
     "data": {
      "text/plain": [
       "-24.0"
      ]
     },
     "execution_count": 13,
     "metadata": {},
     "output_type": "execute_result"
    }
   ],
   "source": [
    "np.percentile(x, 0) # 최소값"
   ]
  },
  {
   "cell_type": "code",
   "execution_count": 16,
   "id": "34cf7e20",
   "metadata": {},
   "outputs": [
    {
     "data": {
      "text/plain": [
       "0.0"
      ]
     },
     "execution_count": 16,
     "metadata": {},
     "output_type": "execute_result"
    }
   ],
   "source": [
    "np.percentile(x, 25) # 1사분위수"
   ]
  },
  {
   "cell_type": "code",
   "execution_count": null,
   "id": "204a0d3d",
   "metadata": {},
   "outputs": [],
   "source": []
  },
  {
   "cell_type": "markdown",
   "id": "88e88dff",
   "metadata": {},
   "source": []
  }
 ],
 "metadata": {
  "kernelspec": {
   "display_name": "Python 3 (ipykernel)",
   "language": "python",
   "name": "python3"
  },
  "language_info": {
   "codemirror_mode": {
    "name": "ipython",
    "version": 3
   },
   "file_extension": ".py",
   "mimetype": "text/x-python",
   "name": "python",
   "nbconvert_exporter": "python",
   "pygments_lexer": "ipython3",
   "version": "3.9.7"
  },
  "toc": {
   "base_numbering": 1,
   "nav_menu": {},
   "number_sections": true,
   "sideBar": true,
   "skip_h1_title": false,
   "title_cell": "Table of Contents",
   "title_sidebar": "Contents",
   "toc_cell": false,
   "toc_position": {},
   "toc_section_display": true,
   "toc_window_display": false
  }
 },
 "nbformat": 4,
 "nbformat_minor": 5
}
