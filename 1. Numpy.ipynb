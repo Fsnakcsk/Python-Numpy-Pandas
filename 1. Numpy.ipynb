{
 "cells": [
  {
   "cell_type": "markdown",
   "id": "d89fa8ae",
   "metadata": {},
   "source": [
    "# 넘파이(Numpy) 배열 프로그래밍"
   ]
  },
  {
   "cell_type": "markdown",
   "id": "0d0882cc",
   "metadata": {},
   "source": [
    "### 1. Numpy array배열\n",
    "#### Array(배열) : 동일한 자료형을 순서대로 저장하여 처일하는 자료구조\n",
    "#### 파이썬 자료형 : List[], Tuple(), 딕셔너리Dict{'key':value}, 집합set{}\n",
    "\n",
    "#### Numpy 자료구조 : 다차원 배열 자료구조 클래스 ndarray"
   ]
  },
  {
   "cell_type": "code",
   "execution_count": 1,
   "id": "45f2da91",
   "metadata": {},
   "outputs": [
    {
     "name": "stdout",
     "output_type": "stream",
     "text": [
      "[1, 4, 9, 16, 25]\n"
     ]
    }
   ],
   "source": [
    "a = [1, 2, 3, 4, 5]\n",
    "b = [1, 2, 3, 4, 5]\n",
    "c = []\n",
    "\n",
    "for i in range(len(a)): # 0, 1, 2, 3, 4\n",
    "    c.append(a[i]*b[i])\n",
    "print(c)"
   ]
  },
  {
   "cell_type": "code",
   "execution_count": 2,
   "id": "ef4ed721",
   "metadata": {},
   "outputs": [
    {
     "name": "stdout",
     "output_type": "stream",
     "text": [
      "[1, 4, 9, 16, 25]\n"
     ]
    }
   ],
   "source": [
    "# c = a * b\n",
    "print(c)"
   ]
  },
  {
   "cell_type": "markdown",
   "id": "9d79afbd",
   "metadata": {},
   "source": [
    "### 2. 넘파이 패키지 임포드"
   ]
  },
  {
   "cell_type": "code",
   "execution_count": 3,
   "id": "45ef7ea7",
   "metadata": {},
   "outputs": [],
   "source": [
    "import numpy as np"
   ]
  },
  {
   "cell_type": "code",
   "execution_count": 4,
   "id": "072e3712",
   "metadata": {},
   "outputs": [
    {
     "data": {
      "text/plain": [
       "'1.20.3'"
      ]
     },
     "execution_count": 4,
     "metadata": {},
     "output_type": "execute_result"
    }
   ],
   "source": [
    "# numpy 라이브러리 버전 확인\n",
    "np.__version__"
   ]
  },
  {
   "cell_type": "code",
   "execution_count": 5,
   "id": "48d9964d",
   "metadata": {},
   "outputs": [
    {
     "data": {
      "text/plain": [
       "array([ 1,  4,  9, 16, 25])"
      ]
     },
     "execution_count": 5,
     "metadata": {},
     "output_type": "execute_result"
    }
   ],
   "source": [
    "x = np.array(a)\n",
    "y = np.array(b)\n",
    "x * y"
   ]
  },
  {
   "cell_type": "markdown",
   "id": "7d2329ff",
   "metadata": {},
   "source": [
    "#### 수업에 사용할 함수 점의"
   ]
  },
  {
   "cell_type": "markdown",
   "id": "fe90b3bf",
   "metadata": {},
   "source": [
    "#### 파이썬 1차원 배열(list)로 Numpy배열 생성하는 방법"
   ]
  },
  {
   "cell_type": "code",
   "execution_count": 6,
   "id": "cabc4887",
   "metadata": {},
   "outputs": [],
   "source": [
    "arr = [1, 2, 3]\n",
    "a = np.array(arr) # 혹은 ([1, 2, 3])"
   ]
  },
  {
   "cell_type": "code",
   "execution_count": 10,
   "id": "3a639294",
   "metadata": {},
   "outputs": [
    {
     "name": "stdout",
     "output_type": "stream",
     "text": [
      "type : <class 'numpy.ndarray'>\n",
      "shape : (3,), dimension : 1 , dtype : int32\n",
      "Array's Data : \n",
      " [1 2 3]\n"
     ]
    },
    {
     "data": {
      "text/plain": [
       "array([1, 2, 3])"
      ]
     },
     "execution_count": 10,
     "metadata": {},
     "output_type": "execute_result"
    }
   ],
   "source": [
    "import teacher\n",
    "teacher.pprint(a)\n",
    "a"
   ]
  },
  {
   "cell_type": "code",
   "execution_count": 20,
   "id": "6e56e858",
   "metadata": {},
   "outputs": [
    {
     "name": "stdout",
     "output_type": "stream",
     "text": [
      "type : <class 'numpy.ndarray'>\n",
      "shape : (3,), dimension : 1 , dtype : int32\n",
      "Array's Data : \n",
      " [1 2 3]\n"
     ]
    },
    {
     "data": {
      "text/plain": [
       "array([1, 2, 3])"
      ]
     },
     "execution_count": 20,
     "metadata": {},
     "output_type": "execute_result"
    }
   ],
   "source": [
    "from teacher import *\n",
    "pprint(a)\n",
    "a"
   ]
  },
  {
   "cell_type": "markdown",
   "id": "1622b94a",
   "metadata": {},
   "source": [
    "### 파이썬 2차원 배열로 Numpy 배열 생성, 원소 데이터타입 지벙"
   ]
  },
  {
   "cell_type": "code",
   "execution_count": 23,
   "id": "64eea092",
   "metadata": {},
   "outputs": [
    {
     "name": "stdout",
     "output_type": "stream",
     "text": [
      "type : <class 'numpy.ndarray'>\n",
      "shape : (2, 3), dimension : 2 , dtype : float64\n",
      "Array's Data : \n",
      " [[1. 2. 3.]\n",
      " [4. 5. 6.]]\n"
     ]
    }
   ],
   "source": [
    "arr1 = [[1,2,3],[4,5,6]]\n",
    "arr2 = [(1,2,3),(4,5,6)]\n",
    "\n",
    "b = np.array(arr1, dtype = float)\n",
    "pprint(b)"
   ]
  },
  {
   "cell_type": "markdown",
   "id": "e56a0dad",
   "metadata": {},
   "source": [
    "#### 파이썬 3차원 배열로 Numpy 배열 생성, 원소 데이터 타입 지정"
   ]
  },
  {
   "cell_type": "code",
   "execution_count": 29,
   "id": "eeb3b844",
   "metadata": {},
   "outputs": [
    {
     "data": {
      "text/plain": [
       "array([[[1., 2., 3.],\n",
       "        [4., 5., 6.]],\n",
       "\n",
       "       [[3., 2., 1.],\n",
       "        [4., 5., 6.]]])"
      ]
     },
     "execution_count": 29,
     "metadata": {},
     "output_type": "execute_result"
    }
   ],
   "source": [
    "arr = np.array([[[1,2,3],\n",
    "                 [4,5,6]],\n",
    "                \n",
    "                [[3,2,1],\n",
    "                 [4,5,6]]], dtype=float)\n",
    "arr"
   ]
  },
  {
   "cell_type": "code",
   "execution_count": 27,
   "id": "1fee66aa",
   "metadata": {},
   "outputs": [
    {
     "name": "stdout",
     "output_type": "stream",
     "text": [
      "type : <class 'numpy.ndarray'>\n",
      "shape : (2, 2, 3), dimension : 3 , dtype : float64\n",
      "Array's Data : \n",
      " [[[1. 2. 3.]\n",
      "  [4. 5. 6.]]\n",
      "\n",
      " [[3. 2. 1.]\n",
      "  [4. 5. 6.]]]\n"
     ]
    }
   ],
   "source": [
    "pprint(arr)"
   ]
  },
  {
   "cell_type": "markdown",
   "id": "b7240c39",
   "metadata": {},
   "source": [
    "#### np.zeros(shape, dtype=float, order='C')\n",
    "- 지정된 shape의 배열을 생성하고, 모든 요소를 0으로 초기화"
   ]
  },
  {
   "cell_type": "code",
   "execution_count": 31,
   "id": "d2ff660a",
   "metadata": {},
   "outputs": [
    {
     "name": "stdout",
     "output_type": "stream",
     "text": [
      "type : <class 'numpy.ndarray'>\n",
      "shape : (3, 4), dimension : 2 , dtype : float64\n",
      "Array's Data : \n",
      " [[0. 0. 0. 0.]\n",
      " [0. 0. 0. 0.]\n",
      " [0. 0. 0. 0.]]\n"
     ]
    }
   ],
   "source": [
    "a = np.zeros((3,4))\n",
    "pprint(a)"
   ]
  },
  {
   "cell_type": "markdown",
   "id": "b691c0bf",
   "metadata": {},
   "source": [
    "#### np.ones(shape, dtype=None, order'C')\n",
    "- 지정된 shape의 배열을 생성하고, 모든 요소를 1로 초기화"
   ]
  },
  {
   "cell_type": "code",
   "execution_count": 33,
   "id": "d3c775c2",
   "metadata": {},
   "outputs": [
    {
     "name": "stdout",
     "output_type": "stream",
     "text": [
      "type : <class 'numpy.ndarray'>\n",
      "shape : (2, 3, 4), dimension : 3 , dtype : int16\n",
      "Array's Data : \n",
      " [[[1 1 1 1]\n",
      "  [1 1 1 1]\n",
      "  [1 1 1 1]]\n",
      "\n",
      " [[1 1 1 1]\n",
      "  [1 1 1 1]\n",
      "  [1 1 1 1]]]\n"
     ]
    }
   ],
   "source": [
    "a = np.ones((2,3,4), dtype = np.int16)\n",
    "pprint(a)"
   ]
  },
  {
   "cell_type": "markdown",
   "id": "0f7370ea",
   "metadata": {},
   "source": [
    "#### np.full(shape, fill_value, dtype=None, order='C')\n",
    "- 지정된 shape의 배열을 생성하고 모든 요소를 fill_value 값으로 초기화"
   ]
  },
  {
   "cell_type": "code",
   "execution_count": 34,
   "id": "52f60d4c",
   "metadata": {},
   "outputs": [
    {
     "name": "stdout",
     "output_type": "stream",
     "text": [
      "type : <class 'numpy.ndarray'>\n",
      "shape : (2, 2), dimension : 2 , dtype : int32\n",
      "Array's Data : \n",
      " [[7 7]\n",
      " [7 7]]\n"
     ]
    }
   ],
   "source": [
    "a = np.full((2,2), 7)\n",
    "pprint(a)"
   ]
  },
  {
   "cell_type": "markdown",
   "id": "97640d8b",
   "metadata": {},
   "source": [
    "#### np.eye(N, M = None, k=0, dtype=float)\n",
    "- (N, N) shape의 (단위행렬)을 생성"
   ]
  },
  {
   "cell_type": "code",
   "execution_count": 44,
   "id": "607caa7c",
   "metadata": {},
   "outputs": [
    {
     "data": {
      "text/plain": [
       "array([[1., 0., 0., 0.],\n",
       "       [0., 1., 0., 0.],\n",
       "       [0., 0., 1., 0.],\n",
       "       [0., 0., 0., 1.]])"
      ]
     },
     "execution_count": 44,
     "metadata": {},
     "output_type": "execute_result"
    }
   ],
   "source": [
    "np.eye(4, k=0)"
   ]
  },
  {
   "cell_type": "markdown",
   "id": "3eeffff2",
   "metadata": {},
   "source": [
    "#### np.empty(shape, dtype=float, order='C')"
   ]
  },
  {
   "cell_type": "markdown",
   "id": "76cf4214",
   "metadata": {},
   "source": [
    "- 지정된 shape의 배열 생성\n",
    "- 요소의 초기화 과정이 없고, 기존 매모리값을 그대로 사용\n",
    "- 배열의 생성비용이 가장 저렴하하고 빠름(기억장소 최소화:매모리 재상용)"
   ]
  },
  {
   "cell_type": "code",
   "execution_count": 46,
   "id": "177622e8",
   "metadata": {},
   "outputs": [
    {
     "name": "stdout",
     "output_type": "stream",
     "text": [
      "type : <class 'numpy.ndarray'>\n",
      "shape : (4, 2), dimension : 2 , dtype : float64\n",
      "Array's Data : \n",
      " [[0.00000000e+000 0.00000000e+000]\n",
      " [0.00000000e+000 0.00000000e+000]\n",
      " [0.00000000e+000 7.88528771e-321]\n",
      " [8.70018274e-313 2.56761491e-312]]\n"
     ]
    }
   ],
   "source": [
    "a = np.empty((4,2))\n",
    "pprint(a)"
   ]
  },
  {
   "cell_type": "markdown",
   "id": "5a3504a5",
   "metadata": {},
   "source": [
    "#### like(함수),  ~처럼, ~같은\n",
    "- 지정된 배열과 shape이 같은 배열을 만드는 함수\n",
    "- np.zeros_like(기존에 만든 배열)\n",
    "- np.ones_like\n",
    "- np.full_like\n",
    "- np. empty_like"
   ]
  },
  {
   "cell_type": "code",
   "execution_count": 47,
   "id": "575b4463",
   "metadata": {},
   "outputs": [
    {
     "name": "stdout",
     "output_type": "stream",
     "text": [
      "type : <class 'numpy.ndarray'>\n",
      "shape : (2, 3), dimension : 2 , dtype : int32\n",
      "Array's Data : \n",
      " [[1 1 1]\n",
      " [1 1 1]]\n"
     ]
    }
   ],
   "source": [
    "a = np.array([[1,2,3],[4,5,6]])\n",
    "b = np.ones_like(a)\n",
    "pprint(b)"
   ]
  },
  {
   "cell_type": "markdown",
   "id": "15bae7fb",
   "metadata": {},
   "source": [
    "### 난수 발생과 카운팅\n",
    "- 난수(random number) : 파이썬을 이용하여 데이터를 무작위로 걲거나 임의의 수\n",
    "- 시드(seed) : 0이거나 0보다 큰 정수를 취한다"
   ]
  },
  {
   "cell_type": "code",
   "execution_count": 256,
   "id": "9ae3d7a9",
   "metadata": {},
   "outputs": [],
   "source": [
    "# seed 설정\n",
    "np.random.seed(0)"
   ]
  },
  {
   "cell_type": "code",
   "execution_count": 257,
   "id": "2f0b1590",
   "metadata": {},
   "outputs": [
    {
     "data": {
      "text/plain": [
       "array([0.5488135 , 0.71518937, 0.60276338, 0.54488318, 0.4236548 ])"
      ]
     },
     "execution_count": 257,
     "metadata": {},
     "output_type": "execute_result"
    }
   ],
   "source": [
    "# rand : 0 ~ 1사이의 난수\n",
    "np.random.rand(5)"
   ]
  },
  {
   "cell_type": "code",
   "execution_count": 258,
   "id": "b94b4ad8",
   "metadata": {},
   "outputs": [
    {
     "data": {
      "text/plain": [
       "array([0.64589411, 0.43758721, 0.891773  , 0.96366276, 0.38344152,\n",
       "       0.79172504, 0.52889492, 0.56804456, 0.92559664, 0.07103606])"
      ]
     },
     "execution_count": 258,
     "metadata": {},
     "output_type": "execute_result"
    }
   ],
   "source": [
    "np.random.rand(10)"
   ]
  },
  {
   "cell_type": "code",
   "execution_count": 259,
   "id": "7f3f3920",
   "metadata": {},
   "outputs": [],
   "source": [
    "# seed 설정\n",
    "np.random.seed(0)"
   ]
  },
  {
   "cell_type": "code",
   "execution_count": 260,
   "id": "eeab11ec",
   "metadata": {},
   "outputs": [
    {
     "data": {
      "text/plain": [
       "array([0.5488135 , 0.71518937, 0.60276338, 0.54488318, 0.4236548 ])"
      ]
     },
     "execution_count": 260,
     "metadata": {},
     "output_type": "execute_result"
    }
   ],
   "source": [
    "np.random.rand(5)"
   ]
  },
  {
   "cell_type": "code",
   "execution_count": 261,
   "id": "43ea3b6d",
   "metadata": {},
   "outputs": [
    {
     "data": {
      "text/plain": [
       "array([0.64589411, 0.43758721, 0.891773  , 0.96366276, 0.38344152,\n",
       "       0.79172504, 0.52889492, 0.56804456, 0.92559664, 0.07103606])"
      ]
     },
     "execution_count": 261,
     "metadata": {},
     "output_type": "execute_result"
    }
   ],
   "source": [
    "np.random.rand(10)"
   ]
  },
  {
   "cell_type": "markdown",
   "id": "31d2452f",
   "metadata": {},
   "source": [
    "#### 데이터의 순서 변경 : shuffle"
   ]
  },
  {
   "cell_type": "code",
   "execution_count": 264,
   "id": "d9ab3dc4",
   "metadata": {},
   "outputs": [
    {
     "data": {
      "text/plain": [
       "array([0, 1, 2, 3, 4, 5, 6, 7, 8, 9])"
      ]
     },
     "execution_count": 264,
     "metadata": {},
     "output_type": "execute_result"
    }
   ],
   "source": [
    "x = np.arange(10)\n",
    "x"
   ]
  },
  {
   "cell_type": "code",
   "execution_count": 277,
   "id": "c531852b",
   "metadata": {},
   "outputs": [
    {
     "data": {
      "text/plain": [
       "array([1, 9, 4, 5, 2, 7, 6, 0, 8, 3])"
      ]
     },
     "execution_count": 277,
     "metadata": {},
     "output_type": "execute_result"
    }
   ],
   "source": [
    "np.random.shuffle(x)\n",
    "x"
   ]
  },
  {
   "cell_type": "markdown",
   "id": "79da5613",
   "metadata": {},
   "source": [
    "### 데이터 샘플링 : choice\n",
    "- np.random.choice(data, size=None, replace=True, p=None)\n",
    "- data : 원래의 데이터 ** 숫자가 들어가면 arange(data)와 같은 의미**\n",
    "- size : 샘플 숫자\n",
    "- replace : True 중복 허용, False불허\n",
    "- p : 각 데이터가 선택될 수 있는 활률"
   ]
  },
  {
   "cell_type": "code",
   "execution_count": 322,
   "id": "0741c127",
   "metadata": {},
   "outputs": [
    {
     "data": {
      "text/plain": [
       "array([1, 2, 4, 3, 0])"
      ]
     },
     "execution_count": 322,
     "metadata": {},
     "output_type": "execute_result"
    }
   ],
   "source": [
    "np.random.choice(5,5,replace = False) #shuffle()와 유사하다"
   ]
  },
  {
   "cell_type": "code",
   "execution_count": 329,
   "id": "ebdb7e06",
   "metadata": {},
   "outputs": [
    {
     "data": {
      "text/plain": [
       "array([0, 1, 4])"
      ]
     },
     "execution_count": 329,
     "metadata": {},
     "output_type": "execute_result"
    }
   ],
   "source": [
    "np.random.choice(5,3,replace = False)"
   ]
  },
  {
   "cell_type": "code",
   "execution_count": 341,
   "id": "fde9e059",
   "metadata": {},
   "outputs": [
    {
     "data": {
      "text/plain": [
       "array([1, 3, 1, 3, 3, 1, 1, 1, 0, 3])"
      ]
     },
     "execution_count": 341,
     "metadata": {},
     "output_type": "execute_result"
    }
   ],
   "source": [
    "np.random.choice(5, 10)"
   ]
  },
  {
   "cell_type": "code",
   "execution_count": 344,
   "id": "0d6aece6",
   "metadata": {},
   "outputs": [
    {
     "data": {
      "text/plain": [
       "array([3, 2, 0, 3, 2, 2, 0, 3, 0, 3])"
      ]
     },
     "execution_count": 344,
     "metadata": {},
     "output_type": "execute_result"
    }
   ],
   "source": [
    "np.random.choice(5, 10, p = [0.1, 0, 0.3, 0.6, 0]) # data숫과 같아야함"
   ]
  },
  {
   "cell_type": "markdown",
   "id": "1d4e42f3",
   "metadata": {},
   "source": [
    "### 닌수 생성\n",
    "- rand : 0부터 1사이의 균일 분포\n",
    "- randn : 표준 정규 분포\n",
    "- randint : 균일 분포의 정수 난수\n",
    "- randint(low, hig=None, size=None)"
   ]
  },
  {
   "cell_type": "code",
   "execution_count": 493,
   "id": "8f90c290",
   "metadata": {},
   "outputs": [
    {
     "data": {
      "text/plain": [
       "array([5, 3, 3, 1, 0, 6, 1, 6, 9, 5])"
      ]
     },
     "execution_count": 493,
     "metadata": {},
     "output_type": "execute_result"
    }
   ],
   "source": [
    "np.random.randint(10, size = 10)"
   ]
  },
  {
   "cell_type": "code",
   "execution_count": 498,
   "id": "1eb6c6a4",
   "metadata": {},
   "outputs": [
    {
     "data": {
      "text/plain": [
       "array([14, 18, 10, 11, 11, 18, 19, 14, 19, 10])"
      ]
     },
     "execution_count": 498,
     "metadata": {},
     "output_type": "execute_result"
    }
   ],
   "source": [
    "np.random.randint(10,20, size = 10)"
   ]
  },
  {
   "cell_type": "code",
   "execution_count": 500,
   "id": "aab8bc0b",
   "metadata": {},
   "outputs": [
    {
     "data": {
      "text/plain": [
       "array([[12, 11, 13, 15, 10],\n",
       "       [12, 15, 18, 16, 12],\n",
       "       [17, 17, 11, 18, 14]])"
      ]
     },
     "execution_count": 500,
     "metadata": {},
     "output_type": "execute_result"
    }
   ],
   "source": [
    "np.random.randint(10,20, size = (3,5))"
   ]
  },
  {
   "cell_type": "markdown",
   "id": "1b5b2700",
   "metadata": {},
   "source": [
    "#### 정수 데이터 카운팅"
   ]
  },
  {
   "cell_type": "code",
   "execution_count": 503,
   "id": "033e7226",
   "metadata": {},
   "outputs": [
    {
     "data": {
      "text/plain": [
       "array([ 2, 11, 34])"
      ]
     },
     "execution_count": 503,
     "metadata": {},
     "output_type": "execute_result"
    }
   ],
   "source": [
    "np.unique([11, 11, 2, 2, 34, 34])"
   ]
  },
  {
   "cell_type": "code",
   "execution_count": 523,
   "id": "21de1ace",
   "metadata": {},
   "outputs": [],
   "source": [
    "a = np.array(['a','b','b','c','a'])\n",
    "index, count = np.unique(a, return_counts=True)"
   ]
  },
  {
   "cell_type": "code",
   "execution_count": 524,
   "id": "325a89e7",
   "metadata": {},
   "outputs": [
    {
     "data": {
      "text/plain": [
       "array(['a', 'b', 'c'], dtype='<U1')"
      ]
     },
     "execution_count": 524,
     "metadata": {},
     "output_type": "execute_result"
    }
   ],
   "source": [
    "index"
   ]
  },
  {
   "cell_type": "code",
   "execution_count": 525,
   "id": "b2f58224",
   "metadata": {},
   "outputs": [
    {
     "data": {
      "text/plain": [
       "array([2, 2, 1], dtype=int64)"
      ]
     },
     "execution_count": 525,
     "metadata": {},
     "output_type": "execute_result"
    }
   ],
   "source": [
    "count"
   ]
  },
  {
   "cell_type": "markdown",
   "id": "b0d332d1",
   "metadata": {},
   "source": [
    "### 데이터 생성 함수\n",
    "- Numpy는 주어진 조건으로 데이터를 생성한 후, 배열을 만드는 데이터 생성함수 제공\n",
    "- np.linspace(start, stop-1, num=50, dtype = None)\n",
    "- np.arange(start, stop-1, step)\n",
    "- np.logspace(start, stop-1, num=50, dtype = None)"
   ]
  },
  {
   "cell_type": "code",
   "execution_count": 530,
   "id": "ede145a2",
   "metadata": {},
   "outputs": [
    {
     "name": "stdout",
     "output_type": "stream",
     "text": [
      "type : <class 'numpy.ndarray'>\n",
      "shape : (5,), dimension : 1 , dtype : float64\n",
      "Array's Data : \n",
      " [0.   0.25 0.5  0.75 1.  ]\n"
     ]
    }
   ],
   "source": [
    "a = np.linspace(0, 1, 5)\n",
    "pprint(a)"
   ]
  },
  {
   "cell_type": "code",
   "execution_count": 539,
   "id": "e35b9c2a",
   "metadata": {},
   "outputs": [
    {
     "data": {
      "image/png": "[encoded data removed]",
      "text/plain": [
       "<Figure size 432x288 with 1 Axes>"
      ]
     },
     "metadata": {
      "needs_background": "light"
     },
     "output_type": "display_data"
    }
   ],
   "source": [
    "import matplotlib.pyplot as plt\n",
    "plt.plot(a,'1') # a는 y축됨\n",
    "plt.show()"
   ]
  },
  {
   "cell_type": "code",
   "execution_count": 550,
   "id": "9b735f9c",
   "metadata": {},
   "outputs": [
    {
     "name": "stdout",
     "output_type": "stream",
     "text": [
      "type : <class 'numpy.ndarray'>\n",
      "shape : (5,), dimension : 1 , dtype : float64\n",
      "Array's Data : \n",
      " [0. 2. 4. 6. 8.]\n"
     ]
    }
   ],
   "source": [
    "a = np.arange(0, 10, 2, np.float64)\n",
    "pprint(a)"
   ]
  },
  {
   "cell_type": "code",
   "execution_count": 551,
   "id": "6acbe15d",
   "metadata": {},
   "outputs": [
    {
     "name": "stdout",
     "output_type": "stream",
     "text": [
      "type : <class 'numpy.ndarray'>\n",
      "shape : (20,), dimension : 1 , dtype : float64\n",
      "Array's Data : \n",
      " [ 1.25892541  1.40400425  1.565802    1.74624535  1.94748304  2.1719114\n",
      "  2.42220294  2.70133812  3.0126409   3.35981829  3.74700446  4.17881006\n",
      "  4.66037703  5.19743987  5.79639395  6.46437163  7.2093272   8.04013161\n",
      "  8.9666781  10.        ]\n"
     ]
    },
    {
     "data": {
      "image/png": "[encoded data removed]",
      "text/plain": [
       "<Figure size 432x288 with 1 Axes>"
      ]
     },
     "metadata": {
      "needs_background": "light"
     },
     "output_type": "display_data"
    }
   ],
   "source": [
    "a = np.logspace(0.1, 1, 20)\n",
    "pprint(a)\n",
    "plt.plot(a,'o') # a는 y축됨\n",
    "plt.show()"
   ]
  },
  {
   "cell_type": "markdown",
   "id": "4b6e7c99",
   "metadata": {},
   "source": [
    "### 난수 기반 배열 생성\n",
    "- np.random.normal(loc=0.0, scale=1.0, size)\n",
    "- loc : 정규분호의 평균\n",
    "- s : \n",
    "- scale = 1.0 표준편차\n",
    "-\n",
    "- np.random.rand() \n",
    "- np.random.randn()\n",
    "- np.random.randint()"
   ]
  },
  {
   "cell_type": "code",
   "execution_count": 578,
   "id": "1375e4c0",
   "metadata": {},
   "outputs": [
    {
     "name": "stdout",
     "output_type": "stream",
     "text": [
      "type : <class 'numpy.ndarray'>\n",
      "shape : (2, 3), dimension : 2 , dtype : float64\n",
      "Array's Data : \n",
      " [[ 1.26466555 -0.13548654 -0.46927984]\n",
      " [-1.58509723  0.1914179   1.41386605]]\n"
     ]
    }
   ],
   "source": [
    "mean = 0\n",
    "std = 1 # 표준쳔차\n",
    "a = np.random.normal(mean, std, (2,3)) #표준정규분포\n",
    "pprint(a)"
   ]
  },
  {
   "cell_type": "code",
   "execution_count": 560,
   "id": "631e5110",
   "metadata": {},
   "outputs": [
    {
     "data": {
      "image/png": "[encoded data removed]",
      "text/plain": [
       "<Figure size 432x288 with 1 Axes>"
      ]
     },
     "metadata": {
      "needs_background": "light"
     },
     "output_type": "display_data"
    }
   ],
   "source": [
    "# 히스토그램            평균, 표준쳔차, 갯수\n",
    "data = np.random.normal(0, 1 ,10000)\n",
    "plt.hist(data, bins=100)\n",
    "plt.show()"
   ]
  },
  {
   "cell_type": "code",
   "execution_count": 569,
   "id": "93a272cf",
   "metadata": {},
   "outputs": [
    {
     "data": {
      "image/png": "[encoded data removed]",
      "text/plain": [
       "<Figure size 432x288 with 1 Axes>"
      ]
     },
     "metadata": {
      "needs_background": "light"
     },
     "output_type": "display_data"
    }
   ],
   "source": [
    "#빈도\n",
    "data = np.random.randn(10000) #정규분포 따르다\n",
    "plt.hist(data, bins = 10)\n",
    "plt.show()"
   ]
  },
  {
   "cell_type": "code",
   "execution_count": 571,
   "id": "3d78e563",
   "metadata": {
    "scrolled": true
   },
   "outputs": [
    {
     "data": {
      "image/png": "[encoded data removed]",
      "text/plain": [
       "<Figure size 432x288 with 1 Axes>"
      ]
     },
     "metadata": {
      "needs_background": "light"
     },
     "output_type": "display_data"
    }
   ],
   "source": [
    "#\n",
    "data = np.random.randint(-100, 100, 10000)\n",
    "plt.hist(data, bins = 10)\n",
    "plt.show()"
   ]
  },
  {
   "cell_type": "code",
   "execution_count": 573,
   "id": "b179c714",
   "metadata": {},
   "outputs": [
    {
     "data": {
      "image/png": "[encoded data removed]",
      "text/plain": [
       "<Figure size 432x288 with 1 Axes>"
      ]
     },
     "metadata": {
      "needs_background": "light"
     },
     "output_type": "display_data"
    }
   ],
   "source": [
    "data = np.random.random(100000)\n",
    "plt.hist(data, bins = 10)\n",
    "plt.show()"
   ]
  },
  {
   "cell_type": "markdown",
   "id": "1a01f1a9",
   "metadata": {},
   "source": [
    "# Numpy 입출력"
   ]
  },
  {
   "cell_type": "markdown",
   "id": "f8662f8b",
   "metadata": {},
   "source": [
    "### 바이너리(Binary)\n",
    "- np.save() : Numpy 배열 객체 1개를 파일에 저장 npy\n",
    "- np.savez() : Numpy 배열객체 복수개를 파일에 저장    npz\n",
    "- np.load() : Numpy 배열 저장 파일로 부터 객체 로딩\n",
    "\n",
    "### 텍스트(text)\n",
    "- np.savetxt() : 텍스트 파일에 numpry 배열 객체 저장\n",
    "- np.loadtxt() : 텍스트 파일로 부터 매열 로딩"
   ]
  },
  {
   "cell_type": "code",
   "execution_count": 579,
   "id": "508024cd",
   "metadata": {},
   "outputs": [
    {
     "name": "stdout",
     "output_type": "stream",
     "text": [
      "type : <class 'numpy.ndarray'>\n",
      "shape : (2, 3), dimension : 2 , dtype : int32\n",
      "Array's Data : \n",
      " [[6 1 1]\n",
      " [4 9 4]]\n",
      "type : <class 'numpy.ndarray'>\n",
      "shape : (2, 3), dimension : 2 , dtype : int32\n",
      "Array's Data : \n",
      " [[3 0 2]\n",
      " [7 0 5]]\n"
     ]
    }
   ],
   "source": [
    "a = np.random.randint(0, 10, (2,3))\n",
    "b = np.random.randint(0, 10, (2,3))\n",
    "\n",
    "pprint(a)\n",
    "pprint(b)"
   ]
  },
  {
   "cell_type": "markdown",
   "id": "2d372e97",
   "metadata": {},
   "source": [
    "#### 1개의 배열 파일에 저장"
   ]
  },
  {
   "cell_type": "code",
   "execution_count": 581,
   "id": "572b88cd",
   "metadata": {},
   "outputs": [],
   "source": [
    "# ./ = 자기자신\n",
    "np.save('my_array1', a)"
   ]
  },
  {
   "cell_type": "code",
   "execution_count": 588,
   "id": "9a236eb3",
   "metadata": {},
   "outputs": [],
   "source": [
    "np.savez('my_array2', a, b)"
   ]
  },
  {
   "cell_type": "code",
   "execution_count": 590,
   "id": "1c38c020",
   "metadata": {},
   "outputs": [
    {
     "data": {
      "text/plain": [
       "array([[6, 1, 1],\n",
       "       [4, 9, 4]])"
      ]
     },
     "execution_count": 590,
     "metadata": {},
     "output_type": "execute_result"
    }
   ],
   "source": [
    "np.load('my_array1.npy')"
   ]
  },
  {
   "cell_type": "code",
   "execution_count": 593,
   "id": "b10ec001",
   "metadata": {},
   "outputs": [],
   "source": [
    "x = np.load('my_array2.npz')"
   ]
  },
  {
   "cell_type": "code",
   "execution_count": 596,
   "id": "f84ac0f7",
   "metadata": {},
   "outputs": [
    {
     "data": {
      "text/plain": [
       "['arr_0', 'arr_1']"
      ]
     },
     "execution_count": 596,
     "metadata": {},
     "output_type": "execute_result"
    }
   ],
   "source": [
    "# 파일 목록 확인\n",
    "x.files"
   ]
  },
  {
   "cell_type": "code",
   "execution_count": 598,
   "id": "4764b9c2",
   "metadata": {},
   "outputs": [
    {
     "name": "stdout",
     "output_type": "stream",
     "text": [
      "[[6 1 1]\n",
      " [4 9 4]]\n",
      "[[3 0 2]\n",
      " [7 0 5]]\n"
     ]
    }
   ],
   "source": [
    "print(x['arr_0'])\n",
    "print(x['arr_1'])"
   ]
  },
  {
   "cell_type": "markdown",
   "id": "3bde03c7",
   "metadata": {},
   "source": [
    "### 4. Numpy 데이터 타입"
   ]
  },
  {
   "cell_type": "code",
   "execution_count": null,
   "id": "f35e0fb8",
   "metadata": {},
   "outputs": [],
   "source": [
    "# np.unicode_ 3바이트"
   ]
  },
  {
   "cell_type": "markdown",
   "id": "aa1c64c9",
   "metadata": {},
   "source": [
    "### 5. Inspecting : 배열 상태 검사"
   ]
  },
  {
   "cell_type": "code",
   "execution_count": 624,
   "id": "cbc52a84",
   "metadata": {},
   "outputs": [
    {
     "data": {
      "text/plain": [
       "array([[[0.13423632, 0.65195281, 0.34562516],\n",
       "        [0.78538032, 0.97771696, 0.69778102]],\n",
       "\n",
       "       [[0.7501993 , 0.93531171, 0.38109568],\n",
       "        [0.45361973, 0.39241538, 0.93273104]],\n",
       "\n",
       "       [[0.84280566, 0.39482951, 0.38342791],\n",
       "        [0.71890152, 0.30730367, 0.17391566]],\n",
       "\n",
       "       [[0.35455175, 0.55239564, 0.45914466],\n",
       "        [0.50153455, 0.18306083, 0.64794501]],\n",
       "\n",
       "       [[0.90638495, 0.38620025, 0.82427207],\n",
       "        [0.48916716, 0.74480418, 0.33563872]]])"
      ]
     },
     "execution_count": 624,
     "metadata": {},
     "output_type": "execute_result"
    }
   ],
   "source": [
    "#                      면  행  열\n",
    "arr = np.random.random((5, 2 ,3))\n",
    "arr"
   ]
  },
  {
   "cell_type": "code",
   "execution_count": 625,
   "id": "d22e741f",
   "metadata": {},
   "outputs": [
    {
     "data": {
      "text/plain": [
       "numpy.ndarray"
      ]
     },
     "execution_count": 625,
     "metadata": {},
     "output_type": "execute_result"
    }
   ],
   "source": [
    "# 배열 타입 class\n",
    "type(arr) "
   ]
  },
  {
   "cell_type": "code",
   "execution_count": 626,
   "id": "4b19a77f",
   "metadata": {},
   "outputs": [
    {
     "data": {
      "text/plain": [
       "(5, 2, 3)"
      ]
     },
     "execution_count": 626,
     "metadata": {},
     "output_type": "execute_result"
    }
   ],
   "source": [
    "# 배열의 shape 확인\n",
    "arr.shape"
   ]
  },
  {
   "cell_type": "code",
   "execution_count": 627,
   "id": "117be5cd",
   "metadata": {},
   "outputs": [
    {
     "data": {
      "text/plain": [
       "3"
      ]
     },
     "execution_count": 627,
     "metadata": {},
     "output_type": "execute_result"
    }
   ],
   "source": [
    "# 배열의 길이\n",
    "len(arr[0][0])"
   ]
  },
  {
   "cell_type": "code",
   "execution_count": 628,
   "id": "f2eaa1b1",
   "metadata": {},
   "outputs": [
    {
     "data": {
      "text/plain": [
       "3"
      ]
     },
     "execution_count": 628,
     "metadata": {},
     "output_type": "execute_result"
    }
   ],
   "source": [
    "# 배열의 차원 수 np.ndim\n",
    "arr.ndim"
   ]
  },
  {
   "cell_type": "code",
   "execution_count": 629,
   "id": "480fa18f",
   "metadata": {},
   "outputs": [
    {
     "data": {
      "text/plain": [
       "30"
      ]
     },
     "execution_count": 629,
     "metadata": {},
     "output_type": "execute_result"
    }
   ],
   "source": [
    "# 배열의 요소 수 : shape(k, m, n) = k * m * n 면 행 열\n",
    "arr.size"
   ]
  },
  {
   "cell_type": "code",
   "execution_count": 634,
   "id": "6ad3c6f0",
   "metadata": {},
   "outputs": [
    {
     "data": {
      "text/plain": [
       "dtype('float64')"
      ]
     },
     "execution_count": 634,
     "metadata": {},
     "output_type": "execute_result"
    }
   ],
   "source": [
    "# 배열 데이터 타입\n",
    "arr.dtype"
   ]
  },
  {
   "cell_type": "code",
   "execution_count": 635,
   "id": "aa754add",
   "metadata": {},
   "outputs": [
    {
     "data": {
      "text/plain": [
       "'float64'"
      ]
     },
     "execution_count": 635,
     "metadata": {},
     "output_type": "execute_result"
    }
   ],
   "source": [
    "arr.dtype.name"
   ]
  },
  {
   "cell_type": "code",
   "execution_count": 637,
   "id": "af088e81",
   "metadata": {},
   "outputs": [
    {
     "data": {
      "text/plain": [
       "array([[[0, 0, 0],\n",
       "        [0, 0, 0]],\n",
       "\n",
       "       [[0, 0, 0],\n",
       "        [0, 0, 0]],\n",
       "\n",
       "       [[0, 0, 0],\n",
       "        [0, 0, 0]],\n",
       "\n",
       "       [[0, 0, 0],\n",
       "        [0, 0, 0]],\n",
       "\n",
       "       [[0, 0, 0],\n",
       "        [0, 0, 0]]], dtype=int64)"
      ]
     },
     "execution_count": 637,
     "metadata": {},
     "output_type": "execute_result"
    }
   ],
   "source": [
    "arr.astype(np.int64)"
   ]
  },
  {
   "cell_type": "code",
   "execution_count": 639,
   "id": "60e72eea",
   "metadata": {},
   "outputs": [
    {
     "data": {
      "text/plain": [
       "array([[[0.13423632, 0.65195281, 0.34562516],\n",
       "        [0.78538032, 0.97771696, 0.69778102]],\n",
       "\n",
       "       [[0.7501993 , 0.93531171, 0.38109568],\n",
       "        [0.45361973, 0.39241538, 0.93273104]],\n",
       "\n",
       "       [[0.84280566, 0.39482951, 0.38342791],\n",
       "        [0.71890152, 0.30730367, 0.17391566]],\n",
       "\n",
       "       [[0.35455175, 0.55239564, 0.45914466],\n",
       "        [0.50153455, 0.18306083, 0.64794501]],\n",
       "\n",
       "       [[0.90638495, 0.38620025, 0.82427207],\n",
       "        [0.48916716, 0.74480418, 0.33563872]]])"
      ]
     },
     "execution_count": 639,
     "metadata": {},
     "output_type": "execute_result"
    }
   ],
   "source": [
    "arr.astype(np.float64)"
   ]
  },
  {
   "cell_type": "markdown",
   "id": "88df1b65",
   "metadata": {},
   "source": [
    "### 도움말"
   ]
  },
  {
   "cell_type": "code",
   "execution_count": 642,
   "id": "572cf5f0",
   "metadata": {},
   "outputs": [
    {
     "name": "stdout",
     "output_type": "stream",
     "text": [
      "Data-type of the array's elements.\n",
      "\n",
      "Parameters\n",
      "----------\n",
      "None\n",
      "\n",
      "Returns\n",
      "-------\n",
      "d : numpy dtype object\n",
      "\n",
      "See Also\n",
      "--------\n",
      "numpy.dtype\n",
      "\n",
      "Examples\n",
      "--------\n",
      ">>> x\n",
      "array([[0, 1],\n",
      "       [2, 3]])\n",
      ">>> x.dtype\n",
      "dtype('int32')\n",
      ">>> type(x.dtype)\n",
      "<type 'numpy.dtype'>\n"
     ]
    }
   ],
   "source": [
    "np.info(np.ndarray.dtype)"
   ]
  },
  {
   "cell_type": "markdown",
   "id": "31538b83",
   "metadata": {},
   "source": [
    "# 배열 연산"
   ]
  },
  {
   "cell_type": "code",
   "execution_count": 669,
   "id": "adc5ab40",
   "metadata": {},
   "outputs": [
    {
     "name": "stdout",
     "output_type": "stream",
     "text": [
      "type : <class 'numpy.ndarray'>\n",
      "shape : (3, 3), dimension : 2 , dtype : int32\n",
      "Array's Data : \n",
      " [[1 2 3]\n",
      " [4 5 6]\n",
      " [7 8 9]]\n"
     ]
    }
   ],
   "source": [
    "# arange(1, 10) : 1부터 10미만의 범위세어 1씩 증가하는 배열 생성\n",
    "a = np.arange(1,10).reshape(3, 3)\n",
    "pprint(a)"
   ]
  },
  {
   "cell_type": "code",
   "execution_count": 673,
   "id": "055be71f",
   "metadata": {},
   "outputs": [
    {
     "name": "stdout",
     "output_type": "stream",
     "text": [
      "type : <class 'numpy.ndarray'>\n",
      "shape : (3, 3), dimension : 2 , dtype : int32\n",
      "Array's Data : \n",
      " [[9 8 7]\n",
      " [6 5 4]\n",
      " [3 2 1]]\n"
     ]
    }
   ],
   "source": [
    "b = np.arange(9, 0, -1).reshape(3, 3)\n",
    "pprint(b)"
   ]
  },
  {
   "cell_type": "code",
   "execution_count": 678,
   "id": "8eb2ba3e",
   "metadata": {},
   "outputs": [
    {
     "name": "stdout",
     "output_type": "stream",
     "text": [
      "[[10 10 10]\n",
      " [10 10 10]\n",
      " [10 10 10]]\n"
     ]
    },
    {
     "data": {
      "text/plain": [
       "array([[10, 10, 10],\n",
       "       [10, 10, 10],\n",
       "       [10, 10, 10]])"
      ]
     },
     "execution_count": 678,
     "metadata": {},
     "output_type": "execute_result"
    }
   ],
   "source": [
    "print(a + b)\n",
    "np.add(a, b)"
   ]
  },
  {
   "cell_type": "code",
   "execution_count": 682,
   "id": "636c6502",
   "metadata": {},
   "outputs": [
    {
     "data": {
      "text/plain": [
       "array([[-8, -6, -4],\n",
       "       [-2,  0,  2],\n",
       "       [ 4,  6,  8]])"
      ]
     },
     "execution_count": 682,
     "metadata": {},
     "output_type": "execute_result"
    }
   ],
   "source": [
    "a - b\n",
    "np.subtract(a, b)"
   ]
  },
  {
   "cell_type": "code",
   "execution_count": 684,
   "id": "995f2824",
   "metadata": {},
   "outputs": [
    {
     "data": {
      "text/plain": [
       "array([[0.11111111, 0.25      , 0.42857143],\n",
       "       [0.66666667, 1.        , 1.5       ],\n",
       "       [2.33333333, 4.        , 9.        ]])"
      ]
     },
     "execution_count": 684,
     "metadata": {},
     "output_type": "execute_result"
    }
   ],
   "source": [
    "a / b\n",
    "np.divide(a,b)"
   ]
  },
  {
   "cell_type": "code",
   "execution_count": 685,
   "id": "d4366138",
   "metadata": {},
   "outputs": [
    {
     "data": {
      "text/plain": [
       "array([[ 9, 16, 21],\n",
       "       [24, 25, 24],\n",
       "       [21, 16,  9]])"
      ]
     },
     "execution_count": 685,
     "metadata": {},
     "output_type": "execute_result"
    }
   ],
   "source": [
    "a * b\n",
    "np.multiply(a,b)"
   ]
  },
  {
   "cell_type": "code",
   "execution_count": 686,
   "id": "747f70a3",
   "metadata": {},
   "outputs": [
    {
     "data": {
      "text/plain": [
       "array([[8.10308393e+03, 2.98095799e+03, 1.09663316e+03],\n",
       "       [4.03428793e+02, 1.48413159e+02, 5.45981500e+01],\n",
       "       [2.00855369e+01, 7.38905610e+00, 2.71828183e+00]])"
      ]
     },
     "execution_count": 686,
     "metadata": {},
     "output_type": "execute_result"
    }
   ],
   "source": [
    "# 지수연산\n",
    "np.exp(b)"
   ]
  },
  {
   "cell_type": "code",
   "execution_count": 688,
   "id": "0be87bde",
   "metadata": {},
   "outputs": [
    {
     "data": {
      "text/plain": [
       "array([[1.        , 1.41421356, 1.73205081],\n",
       "       [2.        , 2.23606798, 2.44948974],\n",
       "       [2.64575131, 2.82842712, 3.        ]])"
      ]
     },
     "execution_count": 688,
     "metadata": {},
     "output_type": "execute_result"
    }
   ],
   "source": [
    "# 제곱근\n",
    "np.sqrt(a) #루트"
   ]
  },
  {
   "cell_type": "code",
   "execution_count": 691,
   "id": "9f806d1f",
   "metadata": {},
   "outputs": [
    {
     "data": {
      "text/plain": [
       "array([[ 0.84147098,  0.90929743,  0.14112001],\n",
       "       [-0.7568025 , -0.95892427, -0.2794155 ],\n",
       "       [ 0.6569866 ,  0.98935825,  0.41211849]])"
      ]
     },
     "execution_count": 691,
     "metadata": {},
     "output_type": "execute_result"
    }
   ],
   "source": [
    "np.sin(a)"
   ]
  },
  {
   "cell_type": "code",
   "execution_count": 693,
   "id": "d31105c8",
   "metadata": {},
   "outputs": [
    {
     "data": {
      "text/plain": [
       "array([[ 0.54030231, -0.41614684, -0.9899925 ],\n",
       "       [-0.65364362,  0.28366219,  0.96017029],\n",
       "       [ 0.75390225, -0.14550003, -0.91113026]])"
      ]
     },
     "execution_count": 693,
     "metadata": {},
     "output_type": "execute_result"
    }
   ],
   "source": [
    "np.cos(a)"
   ]
  },
  {
   "cell_type": "code",
   "execution_count": 694,
   "id": "40bf1ea9",
   "metadata": {},
   "outputs": [
    {
     "data": {
      "text/plain": [
       "array([[ 1.55740772, -2.18503986, -0.14254654],\n",
       "       [ 1.15782128, -3.38051501, -0.29100619],\n",
       "       [ 0.87144798, -6.79971146, -0.45231566]])"
      ]
     },
     "execution_count": 694,
     "metadata": {},
     "output_type": "execute_result"
    }
   ],
   "source": [
    "np.tan(a)"
   ]
  },
  {
   "cell_type": "code",
   "execution_count": 695,
   "id": "28df59f5",
   "metadata": {},
   "outputs": [
    {
     "data": {
      "text/plain": [
       "array([[0.        , 0.69314718, 1.09861229],\n",
       "       [1.38629436, 1.60943791, 1.79175947],\n",
       "       [1.94591015, 2.07944154, 2.19722458]])"
      ]
     },
     "execution_count": 695,
     "metadata": {},
     "output_type": "execute_result"
    }
   ],
   "source": [
    "np.log(a)"
   ]
  },
  {
   "cell_type": "code",
   "execution_count": 697,
   "id": "9fe9700e",
   "metadata": {},
   "outputs": [
    {
     "name": "stdout",
     "output_type": "stream",
     "text": [
      "[[1 2 3]\n",
      " [4 5 6]\n",
      " [7 8 9]]\n",
      "[[9 8 7]\n",
      " [6 5 4]\n",
      " [3 2 1]]\n"
     ]
    },
    {
     "data": {
      "text/plain": [
       "array([[ 30,  24,  18],\n",
       "       [ 84,  69,  54],\n",
       "       [138, 114,  90]])"
      ]
     },
     "execution_count": 697,
     "metadata": {},
     "output_type": "execute_result"
    }
   ],
   "source": [
    "# 내적 = 행렬곱\n",
    "print(a)\n",
    "print(b)\n",
    "np.dot(a, b)"
   ]
  },
  {
   "cell_type": "code",
   "execution_count": 698,
   "id": "7742921b",
   "metadata": {},
   "outputs": [
    {
     "data": {
      "text/plain": [
       "array([[False, False, False],\n",
       "       [False,  True, False],\n",
       "       [False, False, False]])"
      ]
     },
     "execution_count": 698,
     "metadata": {},
     "output_type": "execute_result"
    }
   ],
   "source": [
    "a == b"
   ]
  },
  {
   "cell_type": "code",
   "execution_count": 700,
   "id": "8a8ebdb3",
   "metadata": {},
   "outputs": [
    {
     "data": {
      "text/plain": [
       "array([[False, False, False],\n",
       "       [False, False,  True],\n",
       "       [ True,  True,  True]])"
      ]
     },
     "execution_count": 700,
     "metadata": {},
     "output_type": "execute_result"
    }
   ],
   "source": [
    "a > b "
   ]
  },
  {
   "cell_type": "code",
   "execution_count": 702,
   "id": "677bc538",
   "metadata": {},
   "outputs": [
    {
     "data": {
      "text/plain": [
       "False"
      ]
     },
     "execution_count": 702,
     "metadata": {},
     "output_type": "execute_result"
    }
   ],
   "source": [
    "# 배열 전체를 비교\n",
    "np.array_equal(a, b)"
   ]
  },
  {
   "cell_type": "markdown",
   "id": "547d6ced",
   "metadata": {},
   "source": [
    "### 집계함수(Aggregte Function)\n",
    "- axis(측)을 기준으로 계산한다\n",
    "- axis = Nong, 0, 1\n",
    "- asix = None, 전체행열을 하나의 배열으로 간주\n",
    "- asix = 0 : 열단위로 그룹화하여 연산수행\n",
    "- axis = 1 : 행단위로 그룹화하여 연산수행"
   ]
  },
  {
   "cell_type": "code",
   "execution_count": 708,
   "id": "da0b0e9c",
   "metadata": {},
   "outputs": [
    {
     "name": "stdout",
     "output_type": "stream",
     "text": [
      "type : <class 'numpy.ndarray'>\n",
      "shape : (3, 3), dimension : 2 , dtype : int32\n",
      "Array's Data : \n",
      " [[1 2 3]\n",
      " [4 5 6]\n",
      " [7 8 9]]\n"
     ]
    }
   ],
   "source": [
    "a = np.arange(1,10).reshape(3, 3)\n",
    "pprint(a)"
   ]
  },
  {
   "cell_type": "code",
   "execution_count": 713,
   "id": "1de777b0",
   "metadata": {},
   "outputs": [
    {
     "data": {
      "text/plain": [
       "(array([12, 15, 18]), array([12, 15, 18]))"
      ]
     },
     "execution_count": 713,
     "metadata": {},
     "output_type": "execute_result"
    }
   ],
   "source": [
    "# axis = None\n",
    "a.sum(), np.sum(a)\n",
    "\n",
    "# axis = 0\n",
    "a.sum(axis = 0), np.sum(a, axis=0)"
   ]
  },
  {
   "cell_type": "code",
   "execution_count": 714,
   "id": "ce029253",
   "metadata": {},
   "outputs": [
    {
     "data": {
      "text/plain": [
       "(array([ 6, 15, 24]), array([ 6, 15, 24]))"
      ]
     },
     "execution_count": 714,
     "metadata": {},
     "output_type": "execute_result"
    }
   ],
   "source": [
    "# axis = 1, 행윈단위로 계산\n",
    "a.sum(axis=1), np.sum(a, axis=1)"
   ]
  },
  {
   "cell_type": "code",
   "execution_count": 717,
   "id": "b12e4bce",
   "metadata": {},
   "outputs": [
    {
     "data": {
      "text/plain": [
       "(1, 1)"
      ]
     },
     "execution_count": 717,
     "metadata": {},
     "output_type": "execute_result"
    }
   ],
   "source": [
    "# min\n",
    "a.min(), np.min(a)"
   ]
  },
  {
   "cell_type": "code",
   "execution_count": 718,
   "id": "6507525a",
   "metadata": {},
   "outputs": [
    {
     "data": {
      "text/plain": [
       "(array([1, 2, 3]), array([1, 2, 3]))"
      ]
     },
     "execution_count": 718,
     "metadata": {},
     "output_type": "execute_result"
    }
   ],
   "source": [
    "# min\n",
    "a.min(axis = 0), np.min(a, axis=0)"
   ]
  },
  {
   "cell_type": "code",
   "execution_count": 719,
   "id": "a7a53924",
   "metadata": {},
   "outputs": [
    {
     "data": {
      "text/plain": [
       "(array([1, 4, 7]), array([1, 4, 7]))"
      ]
     },
     "execution_count": 719,
     "metadata": {},
     "output_type": "execute_result"
    }
   ],
   "source": [
    "# min\n",
    "a.min(axis = 1), np.min(a, axis=1)"
   ]
  },
  {
   "cell_type": "code",
   "execution_count": 720,
   "id": "bf4eb6a8",
   "metadata": {},
   "outputs": [
    {
     "data": {
      "text/plain": [
       "(9, 9)"
      ]
     },
     "execution_count": 720,
     "metadata": {},
     "output_type": "execute_result"
    }
   ],
   "source": [
    "# max\n",
    "a.max(), np.max(a)"
   ]
  },
  {
   "cell_type": "code",
   "execution_count": 721,
   "id": "614130ff",
   "metadata": {},
   "outputs": [
    {
     "data": {
      "text/plain": [
       "(array([7, 8, 9]), array([7, 8, 9]))"
      ]
     },
     "execution_count": 721,
     "metadata": {},
     "output_type": "execute_result"
    }
   ],
   "source": [
    "# max\n",
    "a.max(axis=0), np.max(a,axis=0)"
   ]
  },
  {
   "cell_type": "code",
   "execution_count": 722,
   "id": "39ea799d",
   "metadata": {},
   "outputs": [
    {
     "data": {
      "text/plain": [
       "(array([3, 6, 9]), array([3, 6, 9]))"
      ]
     },
     "execution_count": 722,
     "metadata": {},
     "output_type": "execute_result"
    }
   ],
   "source": [
    "# max\n",
    "a.max(axis=1), np.max(a,axis=1)"
   ]
  },
  {
   "cell_type": "code",
   "execution_count": 723,
   "id": "5070d51c",
   "metadata": {},
   "outputs": [
    {
     "data": {
      "text/plain": [
       "(array([ 1,  3,  6, 10, 15, 21, 28, 36, 45], dtype=int32),\n",
       " array([ 1,  3,  6, 10, 15, 21, 28, 36, 45], dtype=int32))"
      ]
     },
     "execution_count": 723,
     "metadata": {},
     "output_type": "execute_result"
    }
   ],
   "source": [
    "# 누적합계 : cumsum\n",
    "a.cumsum(), np.cumsum(a)"
   ]
  },
  {
   "cell_type": "code",
   "execution_count": 728,
   "id": "53849886",
   "metadata": {},
   "outputs": [
    {
     "name": "stdout",
     "output_type": "stream",
     "text": [
      "[[1 2 3]\n",
      " [4 5 6]\n",
      " [7 8 9]]\n"
     ]
    },
    {
     "data": {
      "text/plain": [
       "(array([[ 1,  2,  3],\n",
       "        [ 5,  7,  9],\n",
       "        [12, 15, 18]], dtype=int32),\n",
       " array([[ 1,  2,  3],\n",
       "        [ 5,  7,  9],\n",
       "        [12, 15, 18]], dtype=int32))"
      ]
     },
     "execution_count": 728,
     "metadata": {},
     "output_type": "execute_result"
    }
   ],
   "source": [
    "# 누적합계 : cumsum\n",
    "print(a)\n",
    "a.cumsum(axis=0), np.cumsum(a,axis=0)"
   ]
  },
  {
   "cell_type": "code",
   "execution_count": 735,
   "id": "14c7d9e7",
   "metadata": {},
   "outputs": [
    {
     "data": {
      "text/plain": [
       "(5.0, 5.0)"
      ]
     },
     "execution_count": 735,
     "metadata": {},
     "output_type": "execute_result"
    }
   ],
   "source": [
    "# 평균 mean\n",
    "a.mean(), np.mean(a)"
   ]
  },
  {
   "cell_type": "code",
   "execution_count": 736,
   "id": "5b43caa6",
   "metadata": {},
   "outputs": [
    {
     "data": {
      "text/plain": [
       "(array([4., 5., 6.]), array([4., 5., 6.]))"
      ]
     },
     "execution_count": 736,
     "metadata": {},
     "output_type": "execute_result"
    }
   ],
   "source": [
    "# 평균 mean\n",
    "a.mean(axis=0), np.mean(a,axis=0)"
   ]
  },
  {
   "cell_type": "code",
   "execution_count": 737,
   "id": "50ed783b",
   "metadata": {},
   "outputs": [
    {
     "data": {
      "text/plain": [
       "(array([2., 5., 8.]), array([2., 5., 8.]))"
      ]
     },
     "execution_count": 737,
     "metadata": {},
     "output_type": "execute_result"
    }
   ],
   "source": [
    "# 평균 mean\n",
    "a.mean(axis=1), np.mean(a,axis=1)"
   ]
  },
  {
   "cell_type": "code",
   "execution_count": null,
   "id": "fed97f09",
   "metadata": {},
   "outputs": [],
   "source": [
    "# median()\n",
    "# a.median() 오류 : py는 median()함수 없고 np.에 있다\n",
    "np.median(a)"
   ]
  },
  {
   "cell_type": "code",
   "execution_count": 739,
   "id": "09c5b60a",
   "metadata": {},
   "outputs": [
    {
     "data": {
      "text/plain": [
       "array([4., 5., 6.])"
      ]
     },
     "execution_count": 739,
     "metadata": {},
     "output_type": "execute_result"
    }
   ],
   "source": [
    "# median()\n",
    "np.median(a, axis=0)"
   ]
  },
  {
   "cell_type": "code",
   "execution_count": 741,
   "id": "2de14d8f",
   "metadata": {},
   "outputs": [
    {
     "data": {
      "text/plain": [
       "array([2., 5., 8.])"
      ]
     },
     "execution_count": 741,
     "metadata": {},
     "output_type": "execute_result"
    }
   ],
   "source": [
    "# median()\n",
    "np.median(a, axis=1)"
   ]
  },
  {
   "cell_type": "code",
   "execution_count": 742,
   "id": "d13798e7",
   "metadata": {},
   "outputs": [
    {
     "data": {
      "text/plain": [
       "array([[1., 1., 1.],\n",
       "       [1., 1., 1.],\n",
       "       [1., 1., 1.]])"
      ]
     },
     "execution_count": 742,
     "metadata": {},
     "output_type": "execute_result"
    }
   ],
   "source": [
    "# np.corrcoef()상관계수\n",
    "np.corrcoef(a)"
   ]
  },
  {
   "cell_type": "code",
   "execution_count": 743,
   "id": "63b6ee91",
   "metadata": {},
   "outputs": [
    {
     "data": {
      "text/plain": [
       "(2.581988897471611, 2.581988897471611)"
      ]
     },
     "execution_count": 743,
     "metadata": {},
     "output_type": "execute_result"
    }
   ],
   "source": [
    "# 표준편차\n",
    "a.std(), np.std(a)"
   ]
  },
  {
   "cell_type": "markdown",
   "id": "390f7bff",
   "metadata": {},
   "source": [
    "## 브로드케스팅\n",
    "- 일반적으로 벡터나 행렬의 크기가 같아야 연산을 수행할 수 있다\n",
    "- 넘파이에서 서로 다른 크기를 가진 두 배열의 연산을 지원하는 기능을 말함"
   ]
  },
  {
   "cell_type": "code",
   "execution_count": 762,
   "id": "c3878a43",
   "metadata": {},
   "outputs": [
    {
     "name": "stdout",
     "output_type": "stream",
     "text": [
      "[[ 1  2  3  4  5  6]\n",
      " [ 7  8  9 10 11 12]\n",
      " [13 14 15 16 17 18]\n",
      " [19 20 21 22 23 24]]\n",
      "[[25 26 27 28 29 30]\n",
      " [31 32 33 34 35 36]\n",
      " [37 38 39 40 41 42]\n",
      " [43 44 45 46 47 48]]\n"
     ]
    }
   ],
   "source": [
    "a = np.arange(1,25).reshape(4,6)\n",
    "print(a)\n",
    "\n",
    "b = np.arange(25, 49).reshape(4,6)\n",
    "print(b)"
   ]
  },
  {
   "cell_type": "markdown",
   "id": "42bc1e32",
   "metadata": {},
   "source": [
    "### shape이 같은 배열의 연산"
   ]
  },
  {
   "cell_type": "code",
   "execution_count": 764,
   "id": "4122a298",
   "metadata": {},
   "outputs": [
    {
     "data": {
      "text/plain": [
       "array([[26, 28, 30, 32, 34, 36],\n",
       "       [38, 40, 42, 44, 46, 48],\n",
       "       [50, 52, 54, 56, 58, 60],\n",
       "       [62, 64, 66, 68, 70, 72]])"
      ]
     },
     "execution_count": 764,
     "metadata": {},
     "output_type": "execute_result"
    }
   ],
   "source": [
    "a + b"
   ]
  },
  {
   "cell_type": "markdown",
   "id": "71469834",
   "metadata": {},
   "source": [
    "### shape 다른 두 배열의 연산\n",
    "- 두 배열이 같은 shape으로 만든 후 연산을 수행"
   ]
  },
  {
   "cell_type": "code",
   "execution_count": 768,
   "id": "e503a8f5",
   "metadata": {},
   "outputs": [
    {
     "name": "stdout",
     "output_type": "stream",
     "text": [
      "type : <class 'numpy.ndarray'>\n",
      "shape : (4, 6), dimension : 2 , dtype : int32\n",
      "Array's Data : \n",
      " [[ 1  2  3  4  5  6]\n",
      " [ 7  8  9 10 11 12]\n",
      " [13 14 15 16 17 18]\n",
      " [19 20 21 22 23 24]]\n"
     ]
    },
    {
     "data": {
      "text/plain": [
       "array([[101, 102, 103, 104, 105, 106],\n",
       "       [107, 108, 109, 110, 111, 112],\n",
       "       [113, 114, 115, 116, 117, 118],\n",
       "       [119, 120, 121, 122, 123, 124]])"
      ]
     },
     "execution_count": 768,
     "metadata": {},
     "output_type": "execute_result"
    }
   ],
   "source": [
    "# case1 : 배열과 스칼라\n",
    "pprint(a)\n",
    "\n",
    "a + 100"
   ]
  },
  {
   "cell_type": "code",
   "execution_count": 771,
   "id": "5887da63",
   "metadata": {},
   "outputs": [
    {
     "name": "stdout",
     "output_type": "stream",
     "text": [
      "[[100 100 100 100 100 100]\n",
      " [100 100 100 100 100 100]\n",
      " [100 100 100 100 100 100]\n",
      " [100 100 100 100 100 100]]\n"
     ]
    }
   ],
   "source": [
    "# step1 : 스칼라를 배열로 변경\n",
    "new_arr = np.full_like(a, 100)\n",
    "print(new_arr)"
   ]
  },
  {
   "cell_type": "code",
   "execution_count": 772,
   "id": "23335ed5",
   "metadata": {},
   "outputs": [
    {
     "data": {
      "text/plain": [
       "array([[101, 102, 103, 104, 105, 106],\n",
       "       [107, 108, 109, 110, 111, 112],\n",
       "       [113, 114, 115, 116, 117, 118],\n",
       "       [119, 120, 121, 122, 123, 124]])"
      ]
     },
     "execution_count": 772,
     "metadata": {},
     "output_type": "execute_result"
    }
   ],
   "source": [
    "# step2 : 배열 연산\n",
    "a + new_arr"
   ]
  },
  {
   "cell_type": "code",
   "execution_count": 780,
   "id": "fb34ce69",
   "metadata": {},
   "outputs": [
    {
     "name": "stdout",
     "output_type": "stream",
     "text": [
      "[[0 1 2 3 4]]\n",
      "[[0]\n",
      " [1]\n",
      " [2]\n",
      " [3]\n",
      " [4]]\n"
     ]
    },
    {
     "data": {
      "text/plain": [
       "array([[ 0,  0,  0,  0,  0],\n",
       "       [ 0,  1,  2,  3,  4],\n",
       "       [ 0,  2,  4,  6,  8],\n",
       "       [ 0,  3,  6,  9, 12],\n",
       "       [ 0,  4,  8, 12, 16]])"
      ]
     },
     "execution_count": 780,
     "metadata": {},
     "output_type": "execute_result"
    }
   ],
   "source": [
    "# case2, shape이 다른 두 배열의 연산\n",
    "a = np.arange(5).reshape(1,5)\n",
    "print(a)\n",
    "\n",
    "b = np.arange(5).reshape(5, 1)\n",
    "print(b)\n",
    "\n",
    "a * b"
   ]
  },
  {
   "cell_type": "markdown",
   "id": "1ce92f0d",
   "metadata": {},
   "source": [
    "### 8.배열 복사"
   ]
  },
  {
   "cell_type": "code",
   "execution_count": 785,
   "id": "2e202381",
   "metadata": {},
   "outputs": [
    {
     "name": "stdout",
     "output_type": "stream",
     "text": [
      "[[5 7 7]\n",
      " [2 3 4]\n",
      " [0 2 3]]\n",
      "[[0 7 7]\n",
      " [0 3 4]\n",
      " [0 2 3]]\n"
     ]
    }
   ],
   "source": [
    "a = np.random.randint(0, 9, (3,3))\n",
    "print(a)\n",
    "\n",
    "a1 = np.copy(a)\n",
    "a1[:,0] = 0\n",
    "print(a1)\n"
   ]
  },
  {
   "cell_type": "markdown",
   "id": "83ddfd31",
   "metadata": {},
   "source": [
    "### 9. 배열 정렬\n",
    "- axis를 기준으로 요소 정렬하는 함수 sort()"
   ]
  },
  {
   "cell_type": "code",
   "execution_count": 789,
   "id": "bb731098",
   "metadata": {},
   "outputs": [
    {
     "name": "stdout",
     "output_type": "stream",
     "text": [
      "[[0.41334156 0.88786811 0.17820859]\n",
      " [0.05479614 0.51991962 0.50049367]\n",
      " [0.88608981 0.03854753 0.61439427]]\n"
     ]
    }
   ],
   "source": [
    "unsorted_arr = np.random.random((3,3))\n",
    "print(unsorted_arr)"
   ]
  },
  {
   "cell_type": "code",
   "execution_count": 794,
   "id": "4a0eee9c",
   "metadata": {},
   "outputs": [],
   "source": [
    "arr1 = unsorted_arr.copy()\n",
    "arr2 = unsorted_arr.copy()\n",
    "arr3 = unsorted_arr.copy()"
   ]
  },
  {
   "cell_type": "code",
   "execution_count": 818,
   "id": "76dae6be",
   "metadata": {},
   "outputs": [
    {
     "data": {
      "text/plain": [
       "array([[0.17820859, 0.41334156, 0.88786811],\n",
       "       [0.05479614, 0.50049367, 0.51991962],\n",
       "       [0.03854753, 0.61439427, 0.88608981]])"
      ]
     },
     "execution_count": 818,
     "metadata": {},
     "output_type": "execute_result"
    }
   ],
   "source": [
    "# axis = None\n",
    "arr1.sort()\n",
    "arr1"
   ]
  },
  {
   "cell_type": "code",
   "execution_count": null,
   "id": "c6f5be1d",
   "metadata": {},
   "outputs": [],
   "source": [
    "# axis = 0\n",
    "arr2.sort(axis=0)\n",
    "arr2"
   ]
  },
  {
   "cell_type": "code",
   "execution_count": 816,
   "id": "091cec72",
   "metadata": {},
   "outputs": [
    {
     "data": {
      "text/plain": [
       "array([[0.17820859, 0.41334156, 0.88786811],\n",
       "       [0.05479614, 0.50049367, 0.51991962],\n",
       "       [0.03854753, 0.61439427, 0.88608981]])"
      ]
     },
     "execution_count": 816,
     "metadata": {},
     "output_type": "execute_result"
    }
   ],
   "source": [
    "# axis = 1\n",
    "arr3.sort(axis=1)\n",
    "arr3"
   ]
  },
  {
   "cell_type": "markdown",
   "id": "8e893f5e",
   "metadata": {},
   "source": [
    "### 10. 서브셋, 슬라이싱, 인덱싱"
   ]
  },
  {
   "cell_type": "code",
   "execution_count": 822,
   "id": "d5740269",
   "metadata": {},
   "outputs": [
    {
     "name": "stdout",
     "output_type": "stream",
     "text": [
      "[ 0  1  2  3  4  5  6  7  8  9 10 11 12 13 14 15 16 17 18 19 20 21 22 23] \n",
      "\n",
      "[[ 0  1  2  3  4  5]\n",
      " [ 6  7  8  9 10 11]\n",
      " [12 13 14 15 16 17]\n",
      " [18 19 20 21 22 23]] \n",
      "\n",
      "[[[ 0  1  2]\n",
      "  [ 3  4  5]\n",
      "  [ 6  7  8]\n",
      "  [ 9 10 11]]\n",
      "\n",
      " [[12 13 14]\n",
      "  [15 16 17]\n",
      "  [18 19 20]\n",
      "  [21 22 23]]] \n",
      "\n"
     ]
    }
   ],
   "source": [
    "arr0 = np.arange(24) # 1차원\n",
    "print(arr0,\"\\n\")\n",
    "\n",
    "arr1 = np.arange(24).reshape(4,6)\n",
    "print(arr1,\"\\n\")\n",
    "\n",
    "arr2 = np.arange(24).reshape(2, 4, 3)\n",
    "print(arr2,\"\\n\")"
   ]
  },
  {
   "cell_type": "markdown",
   "id": "cad19b80",
   "metadata": {},
   "source": [
    "## 1차원 배열의 요소 참조 및 변경"
   ]
  },
  {
   "cell_type": "code",
   "execution_count": 823,
   "id": "65b8920f",
   "metadata": {},
   "outputs": [
    {
     "data": {
      "text/plain": [
       "5"
      ]
     },
     "execution_count": 823,
     "metadata": {},
     "output_type": "execute_result"
    }
   ],
   "source": [
    "arr0[5]"
   ]
  },
  {
   "cell_type": "code",
   "execution_count": 826,
   "id": "9d3968bf",
   "metadata": {},
   "outputs": [
    {
     "name": "stdout",
     "output_type": "stream",
     "text": [
      "[    0     1     2     3     4 10000     6     7     8     9    10    11\n",
      "    12    13    14    15    16    17    18    19    20    21    22    23]\n"
     ]
    }
   ],
   "source": [
    "arr0[5] = 10000\n",
    "print(arr0)"
   ]
  },
  {
   "cell_type": "markdown",
   "id": "6ace0cc9",
   "metadata": {},
   "source": [
    "### 2차원 배열의 참조와 변경"
   ]
  },
  {
   "cell_type": "code",
   "execution_count": 829,
   "id": "e8171653",
   "metadata": {},
   "outputs": [
    {
     "data": {
      "text/plain": [
       "1"
      ]
     },
     "execution_count": 829,
     "metadata": {},
     "output_type": "execute_result"
    }
   ],
   "source": [
    "# 1행에 두번째 컬럼 요소 참조\n",
    "# arr1[행, 열]\n",
    "\n",
    "arr1[0, 1]"
   ]
  },
  {
   "cell_type": "code",
   "execution_count": 832,
   "id": "d91c55c6",
   "metadata": {},
   "outputs": [
    {
     "data": {
      "text/plain": [
       "array([[     0, 100000,      2,      3,      4,      5],\n",
       "       [     6,      7,      8,      9,     10,     11],\n",
       "       [    12,     13,     14,     15,     16,     17],\n",
       "       [    18,     19,     20,     21,     22,     23]])"
      ]
     },
     "execution_count": 832,
     "metadata": {},
     "output_type": "execute_result"
    }
   ],
   "source": [
    "arr1[0, 1] = 100000\n",
    "arr1"
   ]
  },
  {
   "cell_type": "markdown",
   "id": "7e8a8e8a",
   "metadata": {},
   "source": [
    "### 3차원 배열의 참조와 변경"
   ]
  },
  {
   "cell_type": "code",
   "execution_count": 834,
   "id": "22b3a7ed",
   "metadata": {},
   "outputs": [
    {
     "data": {
      "text/plain": [
       "13"
      ]
     },
     "execution_count": 834,
     "metadata": {},
     "output_type": "execute_result"
    }
   ],
   "source": [
    "# 2번째 면, 첫번째 행, 두번째 열 참조\n",
    "arr2[1, 0, 1] = "
   ]
  },
  {
   "cell_type": "code",
   "execution_count": 835,
   "id": "5fd5080a",
   "metadata": {},
   "outputs": [
    {
     "data": {
      "text/plain": [
       "array([[[    0,     1,     2],\n",
       "        [    3,     4,     5],\n",
       "        [    6,     7,     8],\n",
       "        [    9,    10,    11]],\n",
       "\n",
       "       [[   12, 10000,    14],\n",
       "        [   15,    16,    17],\n",
       "        [   18,    19,    20],\n",
       "        [   21,    22,    23]]])"
      ]
     },
     "execution_count": 835,
     "metadata": {},
     "output_type": "execute_result"
    }
   ],
   "source": [
    "arr2[1, 0, 1] = 10000\n",
    "arr2"
   ]
  },
  {
   "cell_type": "markdown",
   "id": "8ae4832a",
   "metadata": {},
   "source": [
    "#### 슬라이싱(slicing)\n",
    "- (n : n-1)\n",
    "- 음수 인덱스 : -1(반대방향, 마지막 인덱스를 의미)"
   ]
  },
  {
   "cell_type": "code",
   "execution_count": 843,
   "id": "021efe44",
   "metadata": {},
   "outputs": [
    {
     "name": "stdout",
     "output_type": "stream",
     "text": [
      "[[ 1  2  3  4  5  6]\n",
      " [ 7  8  9 10 11 12]\n",
      " [13 14 15 16 17 18]\n",
      " [19 20 21 22 23 24]] \n",
      "\n"
     ]
    },
    {
     "data": {
      "text/plain": [
       "array([[ 8,  9, 10, 11],\n",
       "       [14, 15, 16, 17]])"
      ]
     },
     "execution_count": 843,
     "metadata": {},
     "output_type": "execute_result"
    }
   ],
   "source": [
    "arr1 = np.arange(1,25).reshape(4,6)\n",
    "print(arr1,\"\\n\")\n",
    "\n",
    "# 가운대 요수 추출\n",
    "arr1[1:3,1:5]"
   ]
  },
  {
   "cell_type": "code",
   "execution_count": 850,
   "id": "19bf3007",
   "metadata": {},
   "outputs": [
    {
     "data": {
      "text/plain": [
       "array([[ 8,  9, 10, 11],\n",
       "       [14, 15, 16, 17]])"
      ]
     },
     "execution_count": 850,
     "metadata": {},
     "output_type": "execute_result"
    }
   ],
   "source": [
    "arr1[1:-1,1:-1]"
   ]
  },
  {
   "cell_type": "code",
   "execution_count": 855,
   "id": "b834822c",
   "metadata": {},
   "outputs": [
    {
     "name": "stdout",
     "output_type": "stream",
     "text": [
      "type : <class 'numpy.ndarray'>\n",
      "shape : (4, 2), dimension : 2 , dtype : int32\n",
      "Array's Data : \n",
      " [[ 2  3]\n",
      " [ 8  9]\n",
      " [14 15]\n",
      " [20 21]]\n"
     ]
    }
   ],
   "source": [
    "a = arr1[:,1:3]\n",
    "pprint(a)"
   ]
  },
  {
   "cell_type": "code",
   "execution_count": 856,
   "id": "fa200dbf",
   "metadata": {},
   "outputs": [
    {
     "name": "stdout",
     "output_type": "stream",
     "text": [
      "type : <class 'numpy.ndarray'>\n",
      "shape : (4, 6), dimension : 2 , dtype : int32\n",
      "Array's Data : \n",
      " [[   1 9999 9999    4    5    6]\n",
      " [   7 9999 9999   10   11   12]\n",
      " [  13 9999 9999   16   17   18]\n",
      " [  19 9999 9999   22   23   24]]\n"
     ]
    }
   ],
   "source": [
    "a = arr1[:,1:3] = 9999\n",
    "pprint(arr1)"
   ]
  },
  {
   "cell_type": "markdown",
   "id": "51b08168",
   "metadata": {},
   "source": [
    "## Boolean Indexing \n",
    "- 조건에 맞는 것만 추출"
   ]
  },
  {
   "cell_type": "code",
   "execution_count": 857,
   "id": "35ef258a",
   "metadata": {},
   "outputs": [
    {
     "name": "stdout",
     "output_type": "stream",
     "text": [
      "[[ 1  2  3  4  5  6]\n",
      " [ 7  8  9 10 11 12]\n",
      " [13 14 15 16 17 18]\n",
      " [19 20 21 22 23 24]] \n",
      "\n"
     ]
    }
   ],
   "source": [
    "arr1 = np.arange(1,25).reshape(4,6)\n",
    "print(arr1,\"\\n\")"
   ]
  },
  {
   "cell_type": "code",
   "execution_count": 867,
   "id": "b64d4700",
   "metadata": {},
   "outputs": [
    {
     "data": {
      "text/plain": [
       "156"
      ]
     },
     "execution_count": 867,
     "metadata": {},
     "output_type": "execute_result"
    }
   ],
   "source": [
    "# arr1 배열에서 요소의 값이 짝수인 요소들의 총합은\n",
    "arr = arr1 % 2 == 0\n",
    "arr1[arr].sum()"
   ]
  },
  {
   "cell_type": "code",
   "execution_count": 873,
   "id": "c9c765d6",
   "metadata": {},
   "outputs": [
    {
     "data": {
      "text/plain": [
       "156"
      ]
     },
     "execution_count": 873,
     "metadata": {},
     "output_type": "execute_result"
    }
   ],
   "source": [
    "np.sum(arr1[arr1 % 2 == 0])"
   ]
  },
  {
   "cell_type": "markdown",
   "id": "2d23e2c0",
   "metadata": {},
   "source": [
    "## 팬시 인덱싱(Fancy Indexing)"
   ]
  },
  {
   "cell_type": "code",
   "execution_count": 881,
   "id": "9eabb65f",
   "metadata": {},
   "outputs": [
    {
     "name": "stdout",
     "output_type": "stream",
     "text": [
      "[[ 1  2  3  4  5  6]\n",
      " [ 7  8  9 10 11 12]\n",
      " [13 14 15 16 17 18]\n",
      " [19 20 21 22 23 24]] \n",
      "\n"
     ]
    }
   ],
   "source": [
    "arr = np.arange(1,25).reshape(4,6)\n",
    "print(arr1,\"\\n\")"
   ]
  },
  {
   "cell_type": "code",
   "execution_count": 882,
   "id": "a0927a0d",
   "metadata": {},
   "outputs": [
    {
     "data": {
      "text/plain": [
       "[1, 8, 15, 22]"
      ]
     },
     "execution_count": 882,
     "metadata": {},
     "output_type": "execute_result"
    }
   ],
   "source": [
    "[arr[0,0], arr[1,1], arr[2,2], arr[3,3]]"
   ]
  },
  {
   "cell_type": "code",
   "execution_count": 883,
   "id": "f913d225",
   "metadata": {},
   "outputs": [
    {
     "data": {
      "text/plain": [
       "array([ 1,  8, 15, 22])"
      ]
     },
     "execution_count": 883,
     "metadata": {},
     "output_type": "execute_result"
    }
   ],
   "source": [
    "arr[[0,1,2,3],[0,1,2,3]]"
   ]
  },
  {
   "cell_type": "code",
   "execution_count": 885,
   "id": "582f839e",
   "metadata": {},
   "outputs": [
    {
     "data": {
      "text/plain": [
       "array([[ 2,  3],\n",
       "       [ 8,  9],\n",
       "       [14, 15],\n",
       "       [20, 21]])"
      ]
     },
     "execution_count": 885,
     "metadata": {},
     "output_type": "execute_result"
    }
   ],
   "source": [
    "arr[:,[1,2]]"
   ]
  },
  {
   "cell_type": "markdown",
   "id": "d0dc6b3a",
   "metadata": {},
   "source": [
    "## 배열 변환\n",
    "- 전치, 배열, shape 변환, 배열 요소의 추가/삭제, 배열 결합"
   ]
  },
  {
   "cell_type": "markdown",
   "id": "8d587562",
   "metadata": {},
   "source": [
    "#### 전치(Transpose) : 행렬의 행과 열을 바꾼다"
   ]
  },
  {
   "cell_type": "code",
   "execution_count": 890,
   "id": "35ddc1f0",
   "metadata": {},
   "outputs": [
    {
     "name": "stdout",
     "output_type": "stream",
     "text": [
      "type : <class 'numpy.ndarray'>\n",
      "shape : (2, 3), dimension : 2 , dtype : int32\n",
      "Array's Data : \n",
      " [[3 4 9]\n",
      " [9 2 1]]\n"
     ]
    }
   ],
   "source": [
    "a = np.random.randint(1,10, (2,3))\n",
    "pprint(a)"
   ]
  },
  {
   "cell_type": "code",
   "execution_count": 892,
   "id": "b2cb1702",
   "metadata": {},
   "outputs": [
    {
     "name": "stdout",
     "output_type": "stream",
     "text": [
      "type : <class 'numpy.ndarray'>\n",
      "shape : (3, 2), dimension : 2 , dtype : int32\n",
      "Array's Data : \n",
      " [[3 9]\n",
      " [4 2]\n",
      " [9 1]]\n"
     ]
    }
   ],
   "source": [
    "pprint(a.T)"
   ]
  },
  {
   "cell_type": "markdown",
   "id": "0db229d8",
   "metadata": {},
   "source": [
    "#### 배열 형태 변경\n",
    "- ravel : shape1차원 배열로 만드는 메소드 (주소참조됨)\n",
    "- reshape : 데이터의 변경없이 지정된 shape으로 변환하는 메소드"
   ]
  },
  {
   "cell_type": "code",
   "execution_count": 900,
   "id": "0cac4fa1",
   "metadata": {},
   "outputs": [],
   "source": [
    "# View\n",
    "b = a.ravel() # rabel()은 같은 주소를 사용하게 됨."
   ]
  },
  {
   "cell_type": "code",
   "execution_count": 904,
   "id": "b1cb1fe8",
   "metadata": {},
   "outputs": [
    {
     "name": "stdout",
     "output_type": "stream",
     "text": [
      "[[99  4  9]\n",
      " [ 9  2  1]]\n",
      "[99  4  9  9  2  1]\n"
     ]
    }
   ],
   "source": [
    "## 깊은 복사 : 같은 주소를 가리키고 있다\n",
    "## 두개의 객체의 값이 동시 변함\n",
    "\n",
    "print(a)\n",
    "b[0] = 99\n",
    "print(b)"
   ]
  },
  {
   "cell_type": "code",
   "execution_count": 920,
   "id": "5cfa269b",
   "metadata": {},
   "outputs": [
    {
     "data": {
      "text/plain": [
       "[1, 2, 3, 4, 5]"
      ]
     },
     "execution_count": 920,
     "metadata": {},
     "output_type": "execute_result"
    }
   ],
   "source": [
    "x = [1, 2, 3, 4, 5]\n",
    "x"
   ]
  },
  {
   "cell_type": "code",
   "execution_count": 921,
   "id": "3788cbc1",
   "metadata": {},
   "outputs": [
    {
     "data": {
      "text/plain": [
       "[1, 2, 3, 4, 5]"
      ]
     },
     "execution_count": 921,
     "metadata": {},
     "output_type": "execute_result"
    }
   ],
   "source": [
    "x1 = x\n",
    "x1"
   ]
  },
  {
   "cell_type": "code",
   "execution_count": 922,
   "id": "fa7580c0",
   "metadata": {},
   "outputs": [
    {
     "name": "stdout",
     "output_type": "stream",
     "text": [
      "[100, 2, 3, 4, 5]\n",
      "[100, 2, 3, 4, 5]\n"
     ]
    }
   ],
   "source": [
    "x1[0] = 100\n",
    "print(x1)\n",
    "print(x)"
   ]
  },
  {
   "cell_type": "code",
   "execution_count": 923,
   "id": "c8a8ce24",
   "metadata": {},
   "outputs": [
    {
     "data": {
      "text/plain": [
       "[100, 2, 3, 4, 5]"
      ]
     },
     "execution_count": 923,
     "metadata": {},
     "output_type": "execute_result"
    }
   ],
   "source": [
    "# 값만 복사\n",
    "x2 = x[:]\n",
    "x2"
   ]
  },
  {
   "cell_type": "code",
   "execution_count": 924,
   "id": "6b2dafe5",
   "metadata": {},
   "outputs": [
    {
     "name": "stdout",
     "output_type": "stream",
     "text": [
      "[100, 100, 3, 4, 5]\n",
      "[100, 2, 3, 4, 5]\n"
     ]
    }
   ],
   "source": [
    "x2[1] = 100\n",
    "print(x2)\n",
    "print(x)"
   ]
  },
  {
   "cell_type": "code",
   "execution_count": 936,
   "id": "6fc3947f",
   "metadata": {},
   "outputs": [
    {
     "name": "stdout",
     "output_type": "stream",
     "text": [
      "type : <class 'numpy.ndarray'>\n",
      "shape : (2, 3), dimension : 2 , dtype : int32\n",
      "Array's Data : \n",
      " [[4 6 4]\n",
      " [6 4 7]]\n",
      "type : <class 'numpy.ndarray'>\n",
      "shape : (3, 2, 1), dimension : 3 , dtype : int32\n",
      "Array's Data : \n",
      " [[[4]\n",
      "  [6]]\n",
      "\n",
      " [[4]\n",
      "  [6]]\n",
      "\n",
      " [[4]\n",
      "  [7]]]\n"
     ]
    }
   ],
   "source": [
    "# 구조 바꿈\n",
    "a = np.random.randint(1,10, (2,3))\n",
    "pprint(a)\n",
    "\n",
    "result = a.reshape(3, 2, 1)\n",
    "pprint(result)"
   ]
  },
  {
   "cell_type": "code",
   "execution_count": 931,
   "id": "8ae7e97e",
   "metadata": {},
   "outputs": [
    {
     "data": {
      "text/plain": [
       "array([1, 2, 3, 4, 5, 6, 7, 8, 9])"
      ]
     },
     "execution_count": 931,
     "metadata": {},
     "output_type": "execute_result"
    }
   ],
   "source": [
    "# 구조 바꿈\n",
    "x = np.array([1, 2, 3, 4, 5, 6, 7, 8, 9])\n",
    "x"
   ]
  },
  {
   "cell_type": "code",
   "execution_count": 935,
   "id": "d3ab41c4",
   "metadata": {},
   "outputs": [
    {
     "name": "stdout",
     "output_type": "stream",
     "text": [
      "type : <class 'numpy.ndarray'>\n",
      "shape : (3, 3), dimension : 2 , dtype : int32\n",
      "Array's Data : \n",
      " [[1 2 3]\n",
      " [4 5 6]\n",
      " [7 8 9]]\n"
     ]
    }
   ],
   "source": [
    "# 구조 바꿈\n",
    "y = x.reshape(3, -1)\n",
    "pprint(y)"
   ]
  },
  {
   "cell_type": "markdown",
   "id": "0a15890e",
   "metadata": {},
   "source": [
    "#### 요소 추가/삭제\n",
    "- 배열의 요소 변경, 추가, 삽입, 삭제\n",
    "- resize(), append(), insert(), delete()\n",
    "- resize와 reshape는 배열의 shape을 변경하는 부분에서 유사함\n",
    "- 단 , shape는 값은 그대로, resize는 배열의 요소의 수가 즐거나 늘어난다"
   ]
  },
  {
   "cell_type": "code",
   "execution_count": 939,
   "id": "209afe40",
   "metadata": {},
   "outputs": [
    {
     "data": {
      "text/plain": [
       "array([[1, 8, 1, 6, 3, 6],\n",
       "       [3, 5, 7, 6, 7, 8]])"
      ]
     },
     "execution_count": 939,
     "metadata": {},
     "output_type": "execute_result"
    }
   ],
   "source": [
    "a = np.random.randint(1,10, (2,6))\n",
    "a"
   ]
  },
  {
   "cell_type": "code",
   "execution_count": 940,
   "id": "8b9d7c9a",
   "metadata": {},
   "outputs": [
    {
     "name": "stdout",
     "output_type": "stream",
     "text": [
      "type : <class 'numpy.ndarray'>\n",
      "shape : (6, 2), dimension : 2 , dtype : int32\n",
      "Array's Data : \n",
      " [[1 8]\n",
      " [1 6]\n",
      " [3 6]\n",
      " [3 5]\n",
      " [7 6]\n",
      " [7 8]]\n"
     ]
    }
   ],
   "source": [
    "# shape 변경, 요소수, 변경 없음\n",
    "a.resize((6,2))\n",
    "pprint(a)"
   ]
  },
  {
   "cell_type": "code",
   "execution_count": 941,
   "id": "11fb86e9",
   "metadata": {},
   "outputs": [
    {
     "name": "stdout",
     "output_type": "stream",
     "text": [
      "type : <class 'numpy.ndarray'>\n",
      "shape : (2, 6), dimension : 2 , dtype : int32\n",
      "Array's Data : \n",
      " [[7 5 2 8 8 4]\n",
      " [6 5 1 4 6 2]]\n"
     ]
    }
   ],
   "source": [
    "# 요소수 변경\n",
    "b = np.random.randint(1,10, (2,6))\n",
    "pprint(b)"
   ]
  },
  {
   "cell_type": "code",
   "execution_count": 943,
   "id": "94090417",
   "metadata": {},
   "outputs": [
    {
     "data": {
      "text/plain": [
       "array([[7, 5, 2, 8, 8, 4, 6, 5, 1, 4],\n",
       "       [6, 2, 0, 0, 0, 0, 0, 0, 0, 0]])"
      ]
     },
     "execution_count": 943,
     "metadata": {},
     "output_type": "execute_result"
    }
   ],
   "source": [
    "# 요소수 변경 12=>20 확장\n",
    "# 늘어난 요소는 0으로 채워짐\n",
    "\n",
    "b.resize((2,10))\n",
    "b"
   ]
  },
  {
   "cell_type": "code",
   "execution_count": 945,
   "id": "51400815",
   "metadata": {},
   "outputs": [
    {
     "name": "stdout",
     "output_type": "stream",
     "text": [
      "type : <class 'numpy.ndarray'>\n",
      "shape : (2, 6), dimension : 2 , dtype : int32\n",
      "Array's Data : \n",
      " [[5 7 8 2 9 4]\n",
      " [2 5 7 1 9 1]]\n",
      "type : <class 'numpy.ndarray'>\n",
      "shape : (3, 3), dimension : 2 , dtype : int32\n",
      "Array's Data : \n",
      " [[5 7 8]\n",
      " [2 9 4]\n",
      " [2 5 7]]\n"
     ]
    }
   ],
   "source": [
    "# 요소수 변경 12=>9개로 줄임\n",
    "# 줄인 것 삭제가 됨\n",
    "c = np.random.randint(1,10, (2,6))\n",
    "pprint(c)\n",
    "\n",
    "c.resize((3,3))\n",
    "pprint(c)"
   ]
  },
  {
   "cell_type": "markdown",
   "id": "e8638854",
   "metadata": {},
   "source": [
    "#### append(arr, value, axis=None)\n",
    "- 배열에 끝에 추가"
   ]
  },
  {
   "cell_type": "code",
   "execution_count": 946,
   "id": "31ba7659",
   "metadata": {},
   "outputs": [
    {
     "name": "stdout",
     "output_type": "stream",
     "text": [
      "type : <class 'numpy.ndarray'>\n",
      "shape : (3, 3), dimension : 2 , dtype : int32\n",
      "Array's Data : \n",
      " [[1 2 3]\n",
      " [4 5 6]\n",
      " [7 8 9]]\n",
      "type : <class 'numpy.ndarray'>\n",
      "shape : (3, 3), dimension : 2 , dtype : int32\n",
      "Array's Data : \n",
      " [[10 11 12]\n",
      " [13 14 15]\n",
      " [16 17 18]]\n"
     ]
    }
   ],
   "source": [
    "x = np.arange(1, 10).reshape(3, 3)\n",
    "pprint(x)\n",
    "\n",
    "y = np.arange(10, 19).reshape(3, 3)\n",
    "pprint(y)"
   ]
  },
  {
   "cell_type": "code",
   "execution_count": 950,
   "id": "f237496c",
   "metadata": {},
   "outputs": [
    {
     "name": "stdout",
     "output_type": "stream",
     "text": [
      "type : <class 'numpy.ndarray'>\n",
      "shape : (18,), dimension : 1 , dtype : int32\n",
      "Array's Data : \n",
      " [ 1  2  3  4  5  6  7  8  9 10 11 12 13 14 15 16 17 18]\n",
      "[[1 2 3]\n",
      " [4 5 6]\n",
      " [7 8 9]]\n"
     ]
    }
   ],
   "source": [
    "# case1. axis 지정없이 추가\n",
    "# axis를 지정하지 않으면 배열은 1차원 배열로 변형되어 결합된다.\n",
    "result = np.append(x, y)\n",
    "pprint(result)\n",
    "print(x)"
   ]
  },
  {
   "cell_type": "code",
   "execution_count": 974,
   "id": "adacbb71",
   "metadata": {},
   "outputs": [
    {
     "name": "stdout",
     "output_type": "stream",
     "text": [
      "type : <class 'numpy.ndarray'>\n",
      "shape : (6, 3), dimension : 2 , dtype : int32\n",
      "Array's Data : \n",
      " [[ 1  2  3]\n",
      " [ 4  5  6]\n",
      " [ 7  8  9]\n",
      " [10 11 12]\n",
      " [13 14 15]\n",
      " [16 17 18]]\n"
     ]
    }
   ],
   "source": [
    "# case2. asix = 0\n",
    "result = np.append(x, y, axis = 0)\n",
    "pprint(result)"
   ]
  },
  {
   "cell_type": "code",
   "execution_count": 956,
   "id": "ce7b58e7",
   "metadata": {},
   "outputs": [
    {
     "name": "stdout",
     "output_type": "stream",
     "text": [
      "type : <class 'numpy.ndarray'>\n",
      "shape : (3, 6), dimension : 2 , dtype : int32\n",
      "Array's Data : \n",
      " [[ 1  2  3 10 11 12]\n",
      " [ 4  5  6 13 14 15]\n",
      " [ 7  8  9 16 17 18]]\n"
     ]
    }
   ],
   "source": [
    "# case3 : axis = 1\n",
    "result = np.append(x,y, axis=1)\n",
    "pprint(result)"
   ]
  },
  {
   "cell_type": "markdown",
   "id": "54aef50c",
   "metadata": {},
   "source": [
    "### insert(arr, index, value, axis)"
   ]
  },
  {
   "cell_type": "code",
   "execution_count": 958,
   "id": "fe5994b4",
   "metadata": {},
   "outputs": [
    {
     "name": "stdout",
     "output_type": "stream",
     "text": [
      "type : <class 'numpy.ndarray'>\n",
      "shape : (3, 3), dimension : 2 , dtype : int32\n",
      "Array's Data : \n",
      " [[1 2 3]\n",
      " [4 5 6]\n",
      " [7 8 9]]\n"
     ]
    }
   ],
   "source": [
    "a = np.arange(1, 10).reshape(3, 3)\n",
    "pprint(a)"
   ]
  },
  {
   "cell_type": "code",
   "execution_count": 960,
   "id": "d64b7445",
   "metadata": {},
   "outputs": [
    {
     "data": {
      "text/plain": [
       "array([ 1, 99,  2,  3,  4,  5,  6,  7,  8,  9])"
      ]
     },
     "execution_count": 960,
     "metadata": {},
     "output_type": "execute_result"
    }
   ],
   "source": [
    "# a라는 벼열을 1차원 배열로 변환하고 1번 index에 99를 추가\n",
    "np.insert(a, 1, 99)"
   ]
  },
  {
   "cell_type": "code",
   "execution_count": 961,
   "id": "a393b8de",
   "metadata": {},
   "outputs": [
    {
     "data": {
      "text/plain": [
       "array([[ 1,  2,  3],\n",
       "       [99, 99, 99],\n",
       "       [ 4,  5,  6],\n",
       "       [ 7,  8,  9]])"
      ]
     },
     "execution_count": 961,
     "metadata": {},
     "output_type": "execute_result"
    }
   ],
   "source": [
    "# insert() axis = 0\n",
    "np.insert(a, 1, 99, axis=0)"
   ]
  },
  {
   "cell_type": "code",
   "execution_count": 962,
   "id": "6bdccf5a",
   "metadata": {},
   "outputs": [
    {
     "data": {
      "text/plain": [
       "array([[ 1, 99,  2,  3],\n",
       "       [ 4, 99,  5,  6],\n",
       "       [ 7, 99,  8,  9]])"
      ]
     },
     "execution_count": 962,
     "metadata": {},
     "output_type": "execute_result"
    }
   ],
   "source": [
    "# insert() axis = 1\n",
    "np.insert(a, 1, 99, axis=1)"
   ]
  },
  {
   "cell_type": "markdown",
   "id": "a40e9e04",
   "metadata": {},
   "source": [
    "### delete(arr, index, axis)"
   ]
  },
  {
   "cell_type": "code",
   "execution_count": 966,
   "id": "17ecda10",
   "metadata": {},
   "outputs": [
    {
     "name": "stdout",
     "output_type": "stream",
     "text": [
      "type : <class 'numpy.ndarray'>\n",
      "shape : (3, 3), dimension : 2 , dtype : int32\n",
      "Array's Data : \n",
      " [[1 2 3]\n",
      " [4 5 6]\n",
      " [7 8 9]]\n"
     ]
    }
   ],
   "source": [
    "a = np.arange(1, 10).reshape(3, 3)\n",
    "pprint(a)"
   ]
  },
  {
   "cell_type": "code",
   "execution_count": 969,
   "id": "14661814",
   "metadata": {},
   "outputs": [
    {
     "data": {
      "text/plain": [
       "array([1, 3, 4, 5, 6, 7, 8, 9])"
      ]
     },
     "execution_count": 969,
     "metadata": {},
     "output_type": "execute_result"
    }
   ],
   "source": [
    "# delete()\n",
    "np.delete(a, 1)"
   ]
  },
  {
   "cell_type": "code",
   "execution_count": 970,
   "id": "403d27f5",
   "metadata": {},
   "outputs": [
    {
     "data": {
      "text/plain": [
       "array([[1, 2, 3],\n",
       "       [7, 8, 9]])"
      ]
     },
     "execution_count": 970,
     "metadata": {},
     "output_type": "execute_result"
    }
   ],
   "source": [
    "# delete() axis=0\n",
    "np.delete(a, 1, axis=0)"
   ]
  },
  {
   "cell_type": "code",
   "execution_count": 972,
   "id": "c0f39e59",
   "metadata": {},
   "outputs": [
    {
     "data": {
      "text/plain": [
       "array([[1, 3],\n",
       "       [4, 6],\n",
       "       [7, 9]])"
      ]
     },
     "execution_count": 972,
     "metadata": {},
     "output_type": "execute_result"
    }
   ],
   "source": [
    "# delete() axis=1\n",
    "np.delete(a, 1, axis=1)"
   ]
  },
  {
   "cell_type": "markdown",
   "id": "76d7766f",
   "metadata": {},
   "source": [
    "### 배열 결합 : 결합할 배열은 Tuple로 담는다\n",
    "- np.concatenate((a1,a2), axis = 0(기본값)\n",
    "- np.vstack : 수직 방향으로 배열을 결합 (axis=0)\n",
    "- np.hstack : 수평 방향으로 배열을 결합 (axis=1)"
   ]
  },
  {
   "cell_type": "code",
   "execution_count": 976,
   "id": "622a08d5",
   "metadata": {},
   "outputs": [
    {
     "name": "stdout",
     "output_type": "stream",
     "text": [
      "type : <class 'numpy.ndarray'>\n",
      "shape : (2, 3), dimension : 2 , dtype : int32\n",
      "Array's Data : \n",
      " [[1 2 3]\n",
      " [4 5 6]]\n",
      "type : <class 'numpy.ndarray'>\n",
      "shape : (2, 3), dimension : 2 , dtype : int32\n",
      "Array's Data : \n",
      " [[ 7  8  9]\n",
      " [10 11 12]]\n"
     ]
    }
   ],
   "source": [
    "a = np.arange(1, 7).reshape(2, 3)\n",
    "pprint(a)\n",
    "\n",
    "b = np.arange(7, 13).reshape(2, 3)\n",
    "pprint(b)"
   ]
  },
  {
   "cell_type": "code",
   "execution_count": 984,
   "id": "6e4ee078",
   "metadata": {},
   "outputs": [
    {
     "data": {
      "text/plain": [
       "array([[ 1,  2,  3],\n",
       "       [ 4,  5,  6],\n",
       "       [ 7,  8,  9],\n",
       "       [10, 11, 12]])"
      ]
     },
     "execution_count": 984,
     "metadata": {},
     "output_type": "execute_result"
    }
   ],
   "source": [
    "result = np.concatenate((a, b), axis = 0)\n",
    "result"
   ]
  },
  {
   "cell_type": "code",
   "execution_count": 985,
   "id": "5e4f0ffa",
   "metadata": {},
   "outputs": [
    {
     "data": {
      "text/plain": [
       "array([[ 1,  2,  3,  7,  8,  9],\n",
       "       [ 4,  5,  6, 10, 11, 12]])"
      ]
     },
     "execution_count": 985,
     "metadata": {},
     "output_type": "execute_result"
    }
   ],
   "source": [
    "result = np.concatenate((a, b), axis = 1)\n",
    "result"
   ]
  },
  {
   "cell_type": "markdown",
   "id": "24bfb0a8",
   "metadata": {},
   "source": [
    "#### 수직 방향 vstack 결합한 후 Tuple로 담아\n",
    "- np.concatenate((a,b), axis=0)\n"
   ]
  },
  {
   "cell_type": "code",
   "execution_count": 986,
   "id": "18a9e078",
   "metadata": {},
   "outputs": [
    {
     "data": {
      "text/plain": [
       "array([[ 1,  2,  3],\n",
       "       [ 4,  5,  6],\n",
       "       [ 7,  8,  9],\n",
       "       [10, 11, 12]])"
      ]
     },
     "execution_count": 986,
     "metadata": {},
     "output_type": "execute_result"
    }
   ],
   "source": [
    "np.vstack((a,b))"
   ]
  },
  {
   "cell_type": "code",
   "execution_count": 987,
   "id": "031ecc2e",
   "metadata": {},
   "outputs": [
    {
     "data": {
      "text/plain": [
       "array([[ 1,  2,  3],\n",
       "       [ 4,  5,  6],\n",
       "       [ 7,  8,  9],\n",
       "       [10, 11, 12],\n",
       "       [ 1,  2,  3],\n",
       "       [ 4,  5,  6],\n",
       "       [ 7,  8,  9],\n",
       "       [10, 11, 12]])"
      ]
     },
     "execution_count": 987,
     "metadata": {},
     "output_type": "execute_result"
    }
   ],
   "source": [
    "np.vstack((a,b,a,b))"
   ]
  },
  {
   "cell_type": "markdown",
   "id": "32a1fc2a",
   "metadata": {},
   "source": [
    "#### 수평 방향로 hstack 결합한 후 Tuple로 담아\n",
    "- np.concatenate((a,b), axis=0"
   ]
  },
  {
   "cell_type": "code",
   "execution_count": 990,
   "id": "f992cc05",
   "metadata": {},
   "outputs": [
    {
     "data": {
      "text/plain": [
       "array([[ 1,  2,  3,  7,  8,  9],\n",
       "       [ 4,  5,  6, 10, 11, 12]])"
      ]
     },
     "execution_count": 990,
     "metadata": {},
     "output_type": "execute_result"
    }
   ],
   "source": [
    "np.hstack((a,b))"
   ]
  },
  {
   "cell_type": "code",
   "execution_count": 991,
   "id": "3d1caa7e",
   "metadata": {},
   "outputs": [
    {
     "data": {
      "text/plain": [
       "array([[ 1,  2,  3,  7,  8,  9,  1,  2,  3,  7,  8,  9],\n",
       "       [ 4,  5,  6, 10, 11, 12,  4,  5,  6, 10, 11, 12]])"
      ]
     },
     "execution_count": 991,
     "metadata": {},
     "output_type": "execute_result"
    }
   ],
   "source": [
    "np.hstack((a,b,a,b))"
   ]
  },
  {
   "cell_type": "markdown",
   "id": "5d26a5cb",
   "metadata": {},
   "source": [
    "# 배열 분리\n",
    "- np.vsplit() : 수평(행)\n",
    "- np.hsplit() : 수직(열)"
   ]
  },
  {
   "cell_type": "code",
   "execution_count": 992,
   "id": "6d97c61a",
   "metadata": {},
   "outputs": [
    {
     "name": "stdout",
     "output_type": "stream",
     "text": [
      "type : <class 'numpy.ndarray'>\n",
      "shape : (4, 6), dimension : 2 , dtype : int32\n",
      "Array's Data : \n",
      " [[ 1  2  3  4  5  6]\n",
      " [ 7  8  9 10 11 12]\n",
      " [13 14 15 16 17 18]\n",
      " [19 20 21 22 23 24]]\n"
     ]
    }
   ],
   "source": [
    "a = np.arange(1,25).reshape(4,6)\n",
    "pprint(a)"
   ]
  },
  {
   "cell_type": "code",
   "execution_count": 996,
   "id": "0e2444aa",
   "metadata": {},
   "outputs": [
    {
     "data": {
      "text/plain": [
       "[array([[ 1,  2,  3],\n",
       "        [ 7,  8,  9],\n",
       "        [13, 14, 15],\n",
       "        [19, 20, 21]]),\n",
       " array([[ 4,  5,  6],\n",
       "        [10, 11, 12],\n",
       "        [16, 17, 18],\n",
       "        [22, 23, 24]])]"
      ]
     },
     "execution_count": 996,
     "metadata": {},
     "output_type": "execute_result"
    }
   ],
   "source": [
    "# 수직(열)\n",
    "result = np.hsplit(a, 2)\n",
    "result"
   ]
  },
  {
   "cell_type": "code",
   "execution_count": 1000,
   "id": "9ac9acc8",
   "metadata": {},
   "outputs": [
    {
     "data": {
      "text/plain": [
       "[array([[ 1,  2],\n",
       "        [ 7,  8],\n",
       "        [13, 14],\n",
       "        [19, 20]]),\n",
       " array([[ 3,  4],\n",
       "        [ 9, 10],\n",
       "        [15, 16],\n",
       "        [21, 22]]),\n",
       " array([[ 5,  6],\n",
       "        [11, 12],\n",
       "        [17, 18],\n",
       "        [23, 24]])]"
      ]
     },
     "execution_count": 1000,
     "metadata": {},
     "output_type": "execute_result"
    }
   ],
   "source": [
    "# 수직(열)\n",
    "result = np.hsplit(a, 3)\n",
    "result"
   ]
  },
  {
   "cell_type": "code",
   "execution_count": 1006,
   "id": "b4ef4efd",
   "metadata": {},
   "outputs": [
    {
     "data": {
      "text/plain": [
       "[array([[ 1],\n",
       "        [ 7],\n",
       "        [13],\n",
       "        [19]]),\n",
       " array([[ 2,  3],\n",
       "        [ 8,  9],\n",
       "        [14, 15],\n",
       "        [20, 21]]),\n",
       " array([[ 4,  5,  6],\n",
       "        [10, 11, 12],\n",
       "        [16, 17, 18],\n",
       "        [22, 23, 24]]),\n",
       " array([], shape=(4, 0), dtype=int32)]"
      ]
     },
     "execution_count": 1006,
     "metadata": {},
     "output_type": "execute_result"
    }
   ],
   "source": [
    "# 수직(열)\n",
    "\n",
    "#구간 설정 배열을 이요ㅑㅇ하여 여러 구간으로 구분\n",
    "# a[:,:1], a[:,1:3], a[:,4:]\n",
    "result = np.hsplit(a, [1, 3, 6])\n",
    "result"
   ]
  },
  {
   "cell_type": "code",
   "execution_count": null,
   "id": "f954f1e5",
   "metadata": {},
   "outputs": [],
   "source": []
  },
  {
   "cell_type": "code",
   "execution_count": 4,
   "id": "a45c3ea4",
   "metadata": {},
   "outputs": [],
   "source": [
    "import numpy as np"
   ]
  },
  {
   "cell_type": "code",
   "execution_count": 21,
   "id": "e340ef3d",
   "metadata": {},
   "outputs": [],
   "source": [
    "x = np.array([1, 2, 3, 4, 5, 6, 7 ,8, 9, 10])"
   ]
  },
  {
   "cell_type": "code",
   "execution_count": 22,
   "id": "a8a7e40e",
   "metadata": {},
   "outputs": [
    {
     "data": {
      "text/plain": [
       "array([6, 7, 8])"
      ]
     },
     "execution_count": 22,
     "metadata": {},
     "output_type": "execute_result"
    }
   ],
   "source": [
    "y = x[5:8]\n",
    "y"
   ]
  },
  {
   "cell_type": "code",
   "execution_count": 23,
   "id": "8783d0f3",
   "metadata": {},
   "outputs": [
    {
     "data": {
      "text/plain": [
       "array([  1,   2,   3,   4,   5, 100,   7,   8,   9,  10])"
      ]
     },
     "execution_count": 23,
     "metadata": {},
     "output_type": "execute_result"
    }
   ],
   "source": [
    "y[0] = 100\n",
    "x"
   ]
  },
  {
   "cell_type": "code",
   "execution_count": 24,
   "id": "59c5fa52",
   "metadata": {},
   "outputs": [
    {
     "data": {
      "text/plain": [
       "array([ 1,  2,  3,  4,  5, 99, 99, 99,  9, 10])"
      ]
     },
     "execution_count": 24,
     "metadata": {},
     "output_type": "execute_result"
    }
   ],
   "source": [
    "y[:] = 99\n",
    "x"
   ]
  },
  {
   "cell_type": "code",
   "execution_count": 28,
   "id": "b30dd6f7",
   "metadata": {},
   "outputs": [
    {
     "data": {
      "text/plain": [
       "array([ 1,  2,  3,  4,  5, 99, 99, 99,  9, 10])"
      ]
     },
     "execution_count": 28,
     "metadata": {},
     "output_type": "execute_result"
    }
   ],
   "source": [
    "z = x.copy() # **new space**\n",
    "z"
   ]
  },
  {
   "cell_type": "code",
   "execution_count": 29,
   "id": "a762f490",
   "metadata": {},
   "outputs": [
    {
     "name": "stdout",
     "output_type": "stream",
     "text": [
      "[-100    2    3    4    5   99   99   99    9   10]\n",
      "[ 1  2  3  4  5 99 99 99  9 10]\n"
     ]
    }
   ],
   "source": [
    "z[0] = -100\n",
    "print(z)\n",
    "print(x)"
   ]
  },
  {
   "cell_type": "code",
   "execution_count": null,
   "id": "5a322a74",
   "metadata": {},
   "outputs": [],
   "source": []
  },
  {
   "cell_type": "markdown",
   "id": "90dd278a",
   "metadata": {},
   "source": [
    "#### Boolean Indexing"
   ]
  },
  {
   "cell_type": "code",
   "execution_count": 38,
   "id": "6f10c493",
   "metadata": {},
   "outputs": [
    {
     "name": "stdout",
     "output_type": "stream",
     "text": [
      "['Bob' 'Joe' 'Will' 'Bob' 'Will' 'Joe' 'Joe']\n",
      "[[-1.05959672  0.04064628 -0.09979121  0.38365669]\n",
      " [-0.48614623  0.29322626  1.78194801 -0.43653114]\n",
      " [ 0.21206899  3.06085006  1.27901266 -1.86794233]\n",
      " [ 0.95924955  0.06386526 -0.67357414  0.06690495]\n",
      " [-0.44238924  0.59341307 -0.62541832  1.27173237]\n",
      " [-1.77003191 -0.12140369  0.41218479  1.32229027]\n",
      " [ 2.40254889 -0.22508608  1.08503496 -0.15502697]]\n"
     ]
    }
   ],
   "source": [
    "names = np.array(['Bob', 'Joe', 'Will', 'Bob', 'Will', 'Joe', 'Joe'])\n",
    "data = np.random.randn(7, 4)\n",
    "\n",
    "print(names)\n",
    "print(data)"
   ]
  },
  {
   "cell_type": "code",
   "execution_count": 39,
   "id": "cafa480a",
   "metadata": {},
   "outputs": [
    {
     "data": {
      "text/plain": [
       "array([ True, False, False,  True, False, False, False])"
      ]
     },
     "execution_count": 39,
     "metadata": {},
     "output_type": "execute_result"
    }
   ],
   "source": [
    "names == 'Bob'"
   ]
  },
  {
   "cell_type": "code",
   "execution_count": 41,
   "id": "5d36e61f",
   "metadata": {},
   "outputs": [
    {
     "data": {
      "text/plain": [
       "array([[-1.05959672,  0.04064628, -0.09979121,  0.38365669],\n",
       "       [ 0.95924955,  0.06386526, -0.67357414,  0.06690495]])"
      ]
     },
     "execution_count": 41,
     "metadata": {},
     "output_type": "execute_result"
    }
   ],
   "source": [
    "data[names == 'Bob']"
   ]
  },
  {
   "cell_type": "markdown",
   "id": "97517f6e",
   "metadata": {},
   "source": [
    "### 전치행렬과 축바꾸기\n",
    "- transpose()와 T"
   ]
  },
  {
   "cell_type": "code",
   "execution_count": 44,
   "id": "7dfc0e7e",
   "metadata": {},
   "outputs": [
    {
     "data": {
      "text/plain": [
       "array([[0, 1],\n",
       "       [2, 3]])"
      ]
     },
     "execution_count": 44,
     "metadata": {},
     "output_type": "execute_result"
    }
   ],
   "source": [
    "x = np.arange(4).reshape(2,2)\n",
    "x"
   ]
  },
  {
   "cell_type": "code",
   "execution_count": 45,
   "id": "341ed378",
   "metadata": {},
   "outputs": [
    {
     "data": {
      "text/plain": [
       "array([[0, 2],\n",
       "       [1, 3]])"
      ]
     },
     "execution_count": 45,
     "metadata": {},
     "output_type": "execute_result"
    }
   ],
   "source": [
    "x.T"
   ]
  },
  {
   "cell_type": "code",
   "execution_count": 47,
   "id": "f516d499",
   "metadata": {},
   "outputs": [
    {
     "data": {
      "text/plain": [
       "array([[0, 2],\n",
       "       [1, 3]])"
      ]
     },
     "execution_count": 47,
     "metadata": {},
     "output_type": "execute_result"
    }
   ],
   "source": [
    "np.transpose(x)"
   ]
  },
  {
   "cell_type": "code",
   "execution_count": 49,
   "id": "ee8c11ed",
   "metadata": {},
   "outputs": [
    {
     "data": {
      "text/plain": [
       "array([[[1., 1., 1.],\n",
       "        [1., 1., 1.]]])"
      ]
     },
     "execution_count": 49,
     "metadata": {},
     "output_type": "execute_result"
    }
   ],
   "source": [
    "y = np.ones((1, 2, 3))\n",
    "y"
   ]
  },
  {
   "cell_type": "code",
   "execution_count": 50,
   "id": "875d0ab0",
   "metadata": {},
   "outputs": [
    {
     "data": {
      "text/plain": [
       "(2, 1, 3)"
      ]
     },
     "execution_count": 50,
     "metadata": {},
     "output_type": "execute_result"
    }
   ],
   "source": [
    "np.transpose(y, (1, 0, 2)).shape"
   ]
  }
 ],
 "metadata": {
  "kernelspec": {
   "display_name": "Python 3 (ipykernel)",
   "language": "python",
   "name": "python3"
  },
  "language_info": {
   "codemirror_mode": {
    "name": "ipython",
    "version": 3
   },
   "file_extension": ".py",
   "mimetype": "text/x-python",
   "name": "python",
   "nbconvert_exporter": "python",
   "pygments_lexer": "ipython3",
   "version": "3.9.7"
  },
  "toc": {
   "base_numbering": 1,
   "nav_menu": {},
   "number_sections": true,
   "sideBar": true,
   "skip_h1_title": false,
   "title_cell": "Table of Contents",
   "title_sidebar": "Contents",
   "toc_cell": false,
   "toc_position": {},
   "toc_section_display": true,
   "toc_window_display": false
  }
 },
 "nbformat": 4,
 "nbformat_minor": 5
}
