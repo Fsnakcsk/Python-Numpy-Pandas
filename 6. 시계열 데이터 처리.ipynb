{
 "cells": [
  {
   "cell_type": "markdown",
   "id": "bef02534",
   "metadata": {},
   "source": [
    "# DatetimeIndex  (pandas에서 제공)\n",
    "- pd.to_datatime() : 문자열을 날짜/시간의 자료형인 datatime 자료형으로 바꿔주는 함수\n",
    "- pd.data_range()  : 시작일과 종료일 또는 사작일과 기간을 입력하면 범위내의 인덱스를 자동으로 생성\n",
    "\n",
    "- 시계열 자료 : 인덱스에 날짜나 시간이 오는 데이터\n",
    "- 판다스에서 시계열 자료를 생성하려면 인덱스를 DatatimeIndex 자료형으로 만들어야 한다"
   ]
  },
  {
   "cell_type": "code",
   "execution_count": 4,
   "id": "6ecc1843",
   "metadata": {},
   "outputs": [],
   "source": [
    "import numpy as np\n",
    "import pandas as pd"
   ]
  },
  {
   "cell_type": "code",
   "execution_count": 10,
   "id": "1fa019e2",
   "metadata": {},
   "outputs": [
    {
     "name": "stdout",
     "output_type": "stream",
     "text": [
      "<class 'list'>\n"
     ]
    }
   ],
   "source": [
    "date_str = ['2018, 1, 1', '2018, 1, 4', '2018, 1, 5', '2018, 1, 6']\n",
    "print(type(date_str))"
   ]
  },
  {
   "cell_type": "code",
   "execution_count": 11,
   "id": "736a8e5d",
   "metadata": {},
   "outputs": [
    {
     "data": {
      "text/plain": [
       "DatetimeIndex(['2018-01-01', '2018-01-04', '2018-01-05', '2018-01-06'], dtype='datetime64[ns]', freq=None)"
      ]
     },
     "execution_count": 11,
     "metadata": {},
     "output_type": "execute_result"
    }
   ],
   "source": [
    "idx = pd.to_datetime(date_str)\n",
    "idx"
   ]
  },
  {
   "cell_type": "code",
   "execution_count": 14,
   "id": "842aaee4",
   "metadata": {},
   "outputs": [
    {
     "data": {
      "text/plain": [
       "2018-01-01   -0.158310\n",
       "2018-01-04   -1.268831\n",
       "2018-01-05    0.777561\n",
       "2018-01-06   -1.534907\n",
       "dtype: float64"
      ]
     },
     "execution_count": 14,
     "metadata": {},
     "output_type": "execute_result"
    }
   ],
   "source": [
    "# Series\n",
    "s = pd.Series(np.random.randn(4), index=idx)\n",
    "s"
   ]
  },
  {
   "cell_type": "code",
   "execution_count": 16,
   "id": "8b510d0a",
   "metadata": {},
   "outputs": [
    {
     "data": {
      "text/plain": [
       "DatetimeIndex(['2022-04-02', '2022-04-03', '2022-04-04', '2022-04-05',\n",
       "               '2022-04-06', '2022-04-07', '2022-04-08', '2022-04-09',\n",
       "               '2022-04-10', '2022-04-11', '2022-04-12', '2022-04-13',\n",
       "               '2022-04-14', '2022-04-15', '2022-04-16', '2022-04-17',\n",
       "               '2022-04-18', '2022-04-19', '2022-04-20', '2022-04-21',\n",
       "               '2022-04-22', '2022-04-23', '2022-04-24', '2022-04-25',\n",
       "               '2022-04-26', '2022-04-27', '2022-04-28', '2022-04-29',\n",
       "               '2022-04-30'],\n",
       "              dtype='datetime64[ns]', freq='D')"
      ]
     },
     "execution_count": 16,
     "metadata": {},
     "output_type": "execute_result"
    }
   ],
   "source": [
    "#시계열 데이터 생성\n",
    "pd.date_range('2022-4-2', '2022-4-30')"
   ]
  },
  {
   "cell_type": "code",
   "execution_count": 17,
   "id": "8fd68fa4",
   "metadata": {},
   "outputs": [
    {
     "data": {
      "text/plain": [
       "DatetimeIndex(['2022-10-01', '2022-10-02', '2022-10-03', '2022-10-04',\n",
       "               '2022-10-05', '2022-10-06', '2022-10-07', '2022-10-08',\n",
       "               '2022-10-09', '2022-10-10', '2022-10-11', '2022-10-12',\n",
       "               '2022-10-13', '2022-10-14', '2022-10-15', '2022-10-16',\n",
       "               '2022-10-17', '2022-10-18', '2022-10-19', '2022-10-20',\n",
       "               '2022-10-21', '2022-10-22', '2022-10-23', '2022-10-24',\n",
       "               '2022-10-25', '2022-10-26', '2022-10-27', '2022-10-28',\n",
       "               '2022-10-29', '2022-10-30'],\n",
       "              dtype='datetime64[ns]', freq='D')"
      ]
     },
     "execution_count": 17,
     "metadata": {},
     "output_type": "execute_result"
    }
   ],
   "source": [
    "#시계열 데이터 생성       시작            끝\n",
    "pd.date_range(start = '2022-10-1', periods = 30) # 범위"
   ]
  },
  {
   "cell_type": "markdown",
   "id": "44a0c27e",
   "metadata": {},
   "source": [
    "#### freq 매개변수로 특정한 날짜만 생성되도록 설정할 수 있다\n",
    "- s : second, 초\n",
    "- T : minute, 분\n",
    "- H : hour  , 시간\n",
    "- D : day   , 일\n",
    "- B : 평일\n",
    "- W : 일요일\n",
    "- W-MON : (월요일)\n",
    "- M : 각 달의 마지막날\n",
    "- MS : 각 달의 첫날"
   ]
  },
  {
   "cell_type": "code",
   "execution_count": 18,
   "id": "4ecfb8c0",
   "metadata": {},
   "outputs": [
    {
     "data": {
      "text/plain": [
       "DatetimeIndex(['2022-10-01', '2022-10-02', '2022-10-03', '2022-10-04',\n",
       "               '2022-10-05', '2022-10-06', '2022-10-07', '2022-10-08',\n",
       "               '2022-10-09', '2022-10-10', '2022-10-11', '2022-10-12',\n",
       "               '2022-10-13', '2022-10-14', '2022-10-15', '2022-10-16',\n",
       "               '2022-10-17', '2022-10-18', '2022-10-19', '2022-10-20',\n",
       "               '2022-10-21', '2022-10-22', '2022-10-23', '2022-10-24',\n",
       "               '2022-10-25', '2022-10-26', '2022-10-27', '2022-10-28',\n",
       "               '2022-10-29', '2022-10-30', '2022-10-31'],\n",
       "              dtype='datetime64[ns]', freq='D')"
      ]
     },
     "execution_count": 18,
     "metadata": {},
     "output_type": "execute_result"
    }
   ],
   "source": [
    "pd.date_range('2022-10-1', '2022-10-31', freq='D')"
   ]
  },
  {
   "cell_type": "code",
   "execution_count": 23,
   "id": "ac9b9a4a",
   "metadata": {},
   "outputs": [
    {
     "data": {
      "text/plain": [
       "DatetimeIndex(['2022-10-02', '2022-10-09', '2022-10-16', '2022-10-23',\n",
       "               '2022-10-30'],\n",
       "              dtype='datetime64[ns]', freq='W-SUN')"
      ]
     },
     "execution_count": 23,
     "metadata": {},
     "output_type": "execute_result"
    }
   ],
   "source": [
    "pd.date_range('2022-10-1', '2022-10-31', freq='W')"
   ]
  },
  {
   "cell_type": "code",
   "execution_count": 24,
   "id": "c7fec5e2",
   "metadata": {},
   "outputs": [
    {
     "data": {
      "text/plain": [
       "DatetimeIndex(['2022-10-03', '2022-10-10', '2022-10-17', '2022-10-24',\n",
       "               '2022-10-31'],\n",
       "              dtype='datetime64[ns]', freq='W-MON')"
      ]
     },
     "execution_count": 24,
     "metadata": {},
     "output_type": "execute_result"
    }
   ],
   "source": [
    "pd.date_range('2022-10-1', '2022-10-31', freq='W-MON')"
   ]
  },
  {
   "cell_type": "markdown",
   "id": "3c49652c",
   "metadata": {},
   "source": [
    "### shift \n",
    "- 시계열 데이터의 인덱스는 shift"
   ]
  },
  {
   "cell_type": "code",
   "execution_count": 26,
   "id": "4f510e71",
   "metadata": {},
   "outputs": [
    {
     "data": {
      "text/plain": [
       "2018-01-31    0.579314\n",
       "2018-02-28    0.895975\n",
       "2018-03-31    2.730436\n",
       "2018-04-30   -0.817324\n",
       "Freq: M, dtype: float64"
      ]
     },
     "execution_count": 26,
     "metadata": {},
     "output_type": "execute_result"
    }
   ],
   "source": [
    "ts = pd.Series(np.random.randn(4), index = pd.date_range('2018-1-1', periods = 4, freq = 'M'))\n",
    "ts"
   ]
  },
  {
   "cell_type": "code",
   "execution_count": 28,
   "id": "cb13a986",
   "metadata": {},
   "outputs": [
    {
     "data": {
      "text/plain": [
       "2018-01-31         NaN\n",
       "2018-02-28    0.579314\n",
       "2018-03-31    0.895975\n",
       "2018-04-30    2.730436\n",
       "Freq: M, dtype: float64"
      ]
     },
     "execution_count": 28,
     "metadata": {},
     "output_type": "execute_result"
    }
   ],
   "source": [
    "ts.shift(1)"
   ]
  },
  {
   "cell_type": "code",
   "execution_count": 30,
   "id": "ed2e4e7d",
   "metadata": {},
   "outputs": [
    {
     "data": {
      "text/plain": [
       "2018-01-31    0.895975\n",
       "2018-02-28    2.730436\n",
       "2018-03-31   -0.817324\n",
       "2018-04-30         NaN\n",
       "Freq: M, dtype: float64"
      ]
     },
     "execution_count": 30,
     "metadata": {},
     "output_type": "execute_result"
    }
   ],
   "source": [
    "ts.shift(-1)"
   ]
  },
  {
   "cell_type": "code",
   "execution_count": 41,
   "id": "34a4df05",
   "metadata": {},
   "outputs": [
    {
     "data": {
      "text/plain": [
       "2018-02-28    0.579314\n",
       "2018-03-31    0.895975\n",
       "2018-04-30    2.730436\n",
       "2018-05-31   -0.817324\n",
       "Freq: M, dtype: float64"
      ]
     },
     "execution_count": 41,
     "metadata": {},
     "output_type": "execute_result"
    }
   ],
   "source": [
    "ts.shift(1, freq='M') #***********************"
   ]
  },
  {
   "cell_type": "code",
   "execution_count": 35,
   "id": "861052ff",
   "metadata": {},
   "outputs": [
    {
     "data": {
      "text/plain": [
       "2018-02-04    0.579314\n",
       "2018-03-04    0.895975\n",
       "2018-04-01    2.730436\n",
       "2018-05-06   -0.817324\n",
       "dtype: float64"
      ]
     },
     "execution_count": 35,
     "metadata": {},
     "output_type": "execute_result"
    }
   ],
   "source": [
    "ts.shift(1, freq='W') #***********************"
   ]
  },
  {
   "cell_type": "markdown",
   "id": "a3ee5ec3",
   "metadata": {},
   "source": [
    "### resample : 날짜나 시간 간격을 재조정하는 기능\n",
    "- up-sample(업샘플링)  :  데이터 양이 증가\n",
    "- down-sample(아운 샘플링 : 데이터 양이 감소, 간격이 커지기 떄문이다."
   ]
  },
  {
   "cell_type": "code",
   "execution_count": 42,
   "id": "5d1343c4",
   "metadata": {},
   "outputs": [
    {
     "data": {
      "text/plain": [
       "2018-01-01   -0.152254\n",
       "2018-01-02   -0.011183\n",
       "2018-01-03   -1.421842\n",
       "2018-01-04   -0.847322\n",
       "2018-01-05    0.794151\n",
       "2018-01-06   -1.344438\n",
       "2018-01-07    1.192402\n",
       "2018-01-08   -0.558989\n",
       "2018-01-09    0.083587\n",
       "2018-01-10    1.816245\n",
       "2018-01-11   -0.048219\n",
       "2018-01-12    0.710435\n",
       "2018-01-13   -0.704013\n",
       "2018-01-14    0.267260\n",
       "2018-01-15    0.429285\n",
       "2018-01-16   -1.427302\n",
       "2018-01-17   -0.862682\n",
       "2018-01-18   -0.303900\n",
       "2018-01-19    0.347044\n",
       "2018-01-20   -0.470446\n",
       "Freq: D, dtype: float64"
      ]
     },
     "execution_count": 42,
     "metadata": {},
     "output_type": "execute_result"
    }
   ],
   "source": [
    "ts = pd.Series(np.random.randn(100), index = pd.date_range('2018-1-1', periods = 100, freq = 'D'))\n",
    "ts.head(20)"
   ]
  },
  {
   "cell_type": "code",
   "execution_count": 43,
   "id": "3ea8dcad",
   "metadata": {},
   "outputs": [
    {
     "data": {
      "text/plain": [
       "2018-01-07   -0.255784\n",
       "2018-01-14    0.223758\n",
       "2018-01-21   -0.121039\n",
       "2018-01-28    0.745609\n",
       "2018-02-04    0.676583\n",
       "2018-02-11    0.345922\n",
       "2018-02-18   -0.636234\n",
       "2018-02-25    0.189369\n",
       "2018-03-04   -0.520725\n",
       "2018-03-11   -0.775972\n",
       "2018-03-18    0.801139\n",
       "2018-03-25    0.463726\n",
       "2018-04-01   -0.055283\n",
       "2018-04-08   -0.519113\n",
       "2018-04-15    0.696919\n",
       "Freq: W-SUN, dtype: float64"
      ]
     },
     "execution_count": 43,
     "metadata": {},
     "output_type": "execute_result"
    }
   ],
   "source": [
    "# 다운 샘플링의 경우에는 원래의 데이터가 그룹화\n",
    "ts.resample('W').mean() #****************"
   ]
  },
  {
   "cell_type": "code",
   "execution_count": 45,
   "id": "6841353e",
   "metadata": {},
   "outputs": [
    {
     "data": {
      "text/plain": [
       "2018-01-31   -0.152254\n",
       "2018-02-28    1.610807\n",
       "2018-03-31    0.683443\n",
       "2018-04-30   -1.396298\n",
       "Freq: M, dtype: float64"
      ]
     },
     "execution_count": 45,
     "metadata": {},
     "output_type": "execute_result"
    }
   ],
   "source": [
    "ts.resample('M').first() #****************"
   ]
  },
  {
   "cell_type": "code",
   "execution_count": null,
   "id": "57fc43ab",
   "metadata": {},
   "outputs": [],
   "source": []
  },
  {
   "cell_type": "code",
   "execution_count": null,
   "id": "5aa0c8a6",
   "metadata": {},
   "outputs": [],
   "source": []
  },
  {
   "cell_type": "code",
   "execution_count": null,
   "id": "ffb7983c",
   "metadata": {},
   "outputs": [],
   "source": []
  },
  {
   "cell_type": "code",
   "execution_count": null,
   "id": "c3e049b6",
   "metadata": {},
   "outputs": [],
   "source": []
  },
  {
   "cell_type": "code",
   "execution_count": null,
   "id": "7800c9b0",
   "metadata": {},
   "outputs": [],
   "source": []
  },
  {
   "cell_type": "code",
   "execution_count": null,
   "id": "e47ae1d9",
   "metadata": {},
   "outputs": [],
   "source": []
  },
  {
   "cell_type": "code",
   "execution_count": null,
   "id": "713b8338",
   "metadata": {},
   "outputs": [],
   "source": []
  },
  {
   "cell_type": "code",
   "execution_count": null,
   "id": "e1c046fe",
   "metadata": {},
   "outputs": [],
   "source": []
  },
  {
   "cell_type": "code",
   "execution_count": null,
   "id": "5ec3e28f",
   "metadata": {},
   "outputs": [],
   "source": []
  },
  {
   "cell_type": "code",
   "execution_count": null,
   "id": "85f3fc28",
   "metadata": {},
   "outputs": [],
   "source": []
  },
  {
   "cell_type": "code",
   "execution_count": null,
   "id": "9f565f64",
   "metadata": {},
   "outputs": [],
   "source": []
  },
  {
   "cell_type": "code",
   "execution_count": null,
   "id": "343d77be",
   "metadata": {},
   "outputs": [],
   "source": []
  },
  {
   "cell_type": "code",
   "execution_count": null,
   "id": "6466e002",
   "metadata": {},
   "outputs": [],
   "source": []
  },
  {
   "cell_type": "code",
   "execution_count": null,
   "id": "dd029275",
   "metadata": {},
   "outputs": [],
   "source": []
  },
  {
   "cell_type": "code",
   "execution_count": null,
   "id": "85972cc6",
   "metadata": {},
   "outputs": [],
   "source": []
  },
  {
   "cell_type": "code",
   "execution_count": null,
   "id": "e2716e49",
   "metadata": {},
   "outputs": [],
   "source": []
  },
  {
   "cell_type": "code",
   "execution_count": null,
   "id": "a9ba3dc0",
   "metadata": {},
   "outputs": [],
   "source": []
  },
  {
   "cell_type": "code",
   "execution_count": null,
   "id": "a4691fbd",
   "metadata": {},
   "outputs": [],
   "source": []
  },
  {
   "cell_type": "code",
   "execution_count": null,
   "id": "6a7a0294",
   "metadata": {},
   "outputs": [],
   "source": []
  },
  {
   "cell_type": "code",
   "execution_count": null,
   "id": "10aff83c",
   "metadata": {},
   "outputs": [],
   "source": []
  },
  {
   "cell_type": "code",
   "execution_count": null,
   "id": "79fd0640",
   "metadata": {},
   "outputs": [],
   "source": []
  },
  {
   "cell_type": "code",
   "execution_count": null,
   "id": "daed37a4",
   "metadata": {},
   "outputs": [],
   "source": []
  }
 ],
 "metadata": {
  "kernelspec": {
   "display_name": "Python 3 (ipykernel)",
   "language": "python",
   "name": "python3"
  },
  "language_info": {
   "codemirror_mode": {
    "name": "ipython",
    "version": 3
   },
   "file_extension": ".py",
   "mimetype": "text/x-python",
   "name": "python",
   "nbconvert_exporter": "python",
   "pygments_lexer": "ipython3",
   "version": "3.9.7"
  },
  "toc": {
   "base_numbering": 1,
   "nav_menu": {},
   "number_sections": true,
   "sideBar": true,
   "skip_h1_title": false,
   "title_cell": "Table of Contents",
   "title_sidebar": "Contents",
   "toc_cell": false,
   "toc_position": {},
   "toc_section_display": true,
   "toc_window_display": false
  }
 },
 "nbformat": 4,
 "nbformat_minor": 5
}
